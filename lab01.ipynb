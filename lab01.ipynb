{
  "cells": [
    {
      "cell_type": "markdown",
      "id": "7b030395-ff9d-488b-893a-3f2925d07a29",
      "metadata": {},
      "source": [
        "# BEE 4750 Lab 1: Julia and GitHub Basics\n",
        "\n",
        "**Name**: Lily Blyn\n",
        "\n",
        "**ID**: llb229\n",
        "\n",
        "> **Due Date**\n",
        ">\n",
        "> Wednesday, 8/28/24, 9:00pm\n",
        "\n",
        "## Setup\n",
        "\n",
        "The following code should go at the top of most Julia scripts; it will\n",
        "load the local package environment and install any needed packages. You\n",
        "will see this often and shouldn’t need to touch it."
      ]
    },
    {
      "cell_type": "code",
      "execution_count": 1,
      "id": "2",
      "metadata": {},
      "outputs": [
        {
          "name": "stderr",
          "output_type": "stream",
          "text": [
            "\u001b[32m\u001b[1m  Activating\u001b[22m\u001b[39m project at `~/Desktop/BEE4750/hw/lab-1-lilyblyn`\n"
          ]
        }
      ],
      "source": [
        "import Pkg\n",
        "Pkg.activate(\".\")\n",
        "Pkg.instantiate()"
      ]
    },
    {
      "cell_type": "markdown",
      "id": "b0c0f53b-93bc-4baa-8b0e-bdb58e8ff961",
      "metadata": {},
      "source": [
        "This next cell loads packages which are required for the rest of the\n",
        "code evaluation. In this case, we only need to load the `Plots.jl`\n",
        "plotting package, but you will see others over the course of the\n",
        "semester (and can add more if desired; just make sure that you’ve [added\n",
        "the new packages to the\n",
        "environment](https://viveks.me/environmental-systems-analysis/tutorials/julia-basics.html#package-management)).\n",
        "Standard Julia practice is to load all of the needed packages at the top\n",
        "of the file.\n",
        "\n",
        "> **Warning**\n",
        ">\n",
        "> Loading packages can take a while, especially the first time! Julia\n",
        "> tries to precompile all of the packages you’re using so repeat use is\n",
        "> faster, but this can be quite slow at first."
      ]
    },
    {
      "cell_type": "code",
      "execution_count": 2,
      "id": "4",
      "metadata": {},
      "outputs": [],
      "source": [
        "using Plots "
      ]
    },
    {
      "cell_type": "markdown",
      "id": "6d2bc421-d992-4864-a390-fd6d7820f6c0",
      "metadata": {},
      "source": [
        "## Introduction\n",
        "\n",
        "### Julia\n",
        "\n",
        "Julia is an up-and-coming language, originally developed for scientific\n",
        "programming. While learning a new programming language always has its\n",
        "hiccups, the good news is that if you’ve programmed in a high-level\n",
        "language such as Python or MATLAB, most Julia concepts should look\n",
        "familiar.\n",
        "\n",
        "If you have not successfully set up Julia, follow the instructions in\n",
        "[Tools\n",
        "Setup](https://viveks.me/environmental-systems-analysis/setup.html)\n",
        "and/or ask for help.\n",
        "\n",
        "You can use other editors for this course, but our recommendation is\n",
        "[Visual Studio Code](https://code.visualstudio.com/) with the [Julia\n",
        "extension](https://marketplace.visualstudio.com/items?itemName=julialang.language-julia),\n",
        "which will make life a *lot* simpler! You should have set this up by\n",
        "following the [Tools\n",
        "Setup](https://viveks.me/environmental-systems-analysis/setup.html)\n",
        "instructions, but if not, do so now and/or ask for help.\n",
        "\n",
        "### Jupyter Notebooks\n",
        "\n",
        "Jupyter notebooks integrate text and equations in Markdown with Julia\n",
        "(or Python, or R) code. To do this, Jupyter notebooks consist of two\n",
        "types of “cells”: code cells and Markdown (text) cells.\n",
        "\n",
        "Click once on this section of text. A box will appear around this text\n",
        "(and some areas above/below it) - all of that is within this cell.\n",
        "\n",
        "Markdown is a text markup framework for formatting language that makes\n",
        "things look pretty when viewed across different platforms: web browsers,\n",
        "notebooks, and so forth. Text written in Markdown can also include\n",
        "hyperlinks, LaTeX equations, section headers, and images, among other\n",
        "features (most of [the course\n",
        "website](https://viveks.me/climate-risk-analysis) and the lecture notes\n",
        "were all written in Markdown!). [Here is a basic Markdown cheat\n",
        "sheet](https://www.markdownguide.org/cheat-sheet/).\n",
        "\n",
        "What you are looking at right now is the formatted text after the\n",
        "Markdown is processed. To see the raw Markdown, do one of:\n",
        "\n",
        "-   press `Enter` while that cell is selected, or\n",
        "-   double-click on that cell.\n",
        "\n",
        "------------------------------------------------------------------------\n",
        "\n",
        "A couple of the features you will see in this Markdown cell:\n",
        "\n",
        "-   The `---` command creates a horizontal line. This is also nice for\n",
        "    separating sections.\n",
        "-   Backticks (`` `...` ``) can be used to format and highlight code,\n",
        "    keystrokes, etc.\n",
        "-   The `#` sign is used to create a new section header; two `#` signs\n",
        "    (`##`) is used to create a new subsection header; `###` creates a\n",
        "    subsubsection, and so on.\n",
        "-   You can create a bulleted list by using the asterisk `*` or a dash\n",
        "    `-` and a space.\n",
        "-   You can create regular text by just typing as usual.\n",
        "-   You can create **bold-faced text** by wrapping it with two asterisks\n",
        "    on both sides.\n",
        "-   You can create *italicized text* by wrapping it with a single\n",
        "    asterisk on both sides.\n",
        "-   To create a new paragraph, you must include a blank line between the\n",
        "    old and new paragraphs.\n",
        "\n",
        "At this point you might be wondering how to turn this cell back into the\n",
        "fully formatted Markdown text instead of the raw Markdown you’re\n",
        "probably still looking at. You have a couple of options, depending on\n",
        "your platform, but the most consistent is to type `Shift + Enter` to\n",
        "**execute** the cell (this is also how to run code, but more on that\n",
        "later).\n",
        "\n",
        "Additionally, you will frequently need to create new cells in your\n",
        "Jupyter notebooks. How you do this will depend on how you interact with\n",
        "the notebook, but try to figure this out now.\n",
        "\n",
        "One tip is to think carefully about what bits of code should be in the\n",
        "same cell, as you typically only see output from the last command in a\n",
        "cell. For example, compare the following:"
      ]
    },
    {
      "cell_type": "code",
      "execution_count": 3,
      "id": "6",
      "metadata": {},
      "outputs": [
        {
          "data": {
            "text/plain": [
              "-0.9589242746631385"
            ]
          },
          "metadata": {},
          "output_type": "display_data"
        }
      ],
      "source": [
        "x = 5\n",
        "sin(x)"
      ]
    },
    {
      "cell_type": "markdown",
      "id": "0b56a2f1-81e8-4426-b62a-95cfc3933b92",
      "metadata": {},
      "source": [
        "with"
      ]
    },
    {
      "cell_type": "code",
      "execution_count": 4,
      "id": "8",
      "metadata": {},
      "outputs": [
        {
          "data": {
            "text/plain": [
              "5"
            ]
          },
          "metadata": {},
          "output_type": "display_data"
        }
      ],
      "source": [
        "x = 5"
      ]
    },
    {
      "cell_type": "code",
      "execution_count": 5,
      "id": "10",
      "metadata": {},
      "outputs": [
        {
          "data": {
            "text/plain": [
              "-0.9589242746631385"
            ]
          },
          "metadata": {},
          "output_type": "display_data"
        }
      ],
      "source": [
        "sin(x)"
      ]
    },
    {
      "cell_type": "markdown",
      "id": "474d541d-93e6-47e1-874f-80abd6c9d7cc",
      "metadata": {},
      "source": [
        "In Julia, you can also suppress the output of a command with a\n",
        "semi-colon:"
      ]
    },
    {
      "cell_type": "code",
      "execution_count": 6,
      "id": "12",
      "metadata": {},
      "outputs": [],
      "source": [
        "sin(x);"
      ]
    },
    {
      "cell_type": "markdown",
      "id": "e5950d08-d04e-4fc7-bed8-33e0ee9a1909",
      "metadata": {},
      "source": [
        "which can help if you want to split some code out for clarity or to\n",
        "insert some text prior to it, but don’t want to clutter the notebook\n",
        "with its output.\n",
        "\n",
        "For code cells, to execute the commands within the cell, we also press\n",
        "`Shift+Enter`.\n",
        "\n",
        "Finally, **make sure that you evaluate all of the code cells in order\n",
        "before submitting**. One bad outcome with notebooks occurs when cells\n",
        "are evaluated out of order, so fixed bugs and edits in previous cells do\n",
        "not get a chance to propagate down. You can do this with the `Run All`\n",
        "command in whichever interface you’re using to edit your notebook.\n",
        "\n",
        "### Julia Basics\n",
        "\n",
        "There are many tutorials and references for Julia, including a [basics\n",
        "overview on the class website](../tutorials/julia-basics.html). Please\n",
        "feel free to reference these as you work through any part of the course.\n",
        "\n",
        "### Formatting Math\n",
        "\n",
        "It will often be helpful to include nicely-formatted mathematics in a\n",
        "notebook. Markdown accomodates this using LaTeX syntax. A LaTeX\n",
        "cheatsheet is available on the class website, and many other guides\n",
        "exist online.\n",
        "\n",
        "Below is an example of a formatted equation: $$x = 5.$$\n",
        "\n",
        "### Looking For Help\n",
        "\n",
        "There is no shame in using Google, or other resources, for help when\n",
        "programming. There are many, many times when you can’t quite get the\n",
        "syntax to work, can’t quite figure out the right package or command to\n",
        "use, or are feeling too lazy or overwhelmed (I’m not judging either of\n",
        "those!) to dig through the documentation. Some good resources include:\n",
        "\n",
        "-   [Stack Overflow](https://stackoverflow.com/) is a treasure trove of\n",
        "    answers;\n",
        "-   The [official Julia forum](https://discourse.julialang.org/) and the\n",
        "    [Julia Subreddit](https://www.reddit.com/r/Julia/) are also very\n",
        "    useful.\n",
        "\n",
        "You are also highly encouraged to post on [Ed\n",
        "Discussion](https://us.edstem.org), though getting a response might be\n",
        "less immediate. Just be mindful that to get good answers, [you have to\n",
        "help people help you](https://stackoverflow.com/help/how-to-ask), and\n",
        "**make sure to give credit to any resources that were helpful**!\n",
        "\n",
        "## Exercises (3 points)\n",
        "\n",
        "Use your understanding of Julia syntax and the GitHub workflow to\n",
        "complete the following (hopefully short) exercises. Convert your\n",
        "completed lab assignment to a PDF and submit it to the Gradescope\n",
        "Assignment “Lab 1”.\n",
        "\n",
        "**Remember to**:\n",
        "\n",
        "-   Include a (succint but clear) writeup of the core idea underlying\n",
        "    your code, through some combination of equations, text, and\n",
        "    algorithms. As you are not required to submit your code, we will not\n",
        "    be looking at it in detail, and instead will rely on those writeups\n",
        "    to assess whether your approach is correct.\n",
        "-   If using the notebook, evaluate all of your code cells, in order\n",
        "    (using a `Run All` command). This will make sure all output is\n",
        "    visible and that the code cells were evaluated in the correct order.\n",
        "-   Tag each of the problems when you submit to Gradescope; a 10%\n",
        "    penalty will be deducted if this is not done.\n",
        "\n",
        "### Computing a Dot Product\n",
        "\n",
        "Given two numeric arrays `x` and `y`, write a function to compute their\n",
        "dot product if they have equal length, and return an error if not (this\n",
        "is useful for debugging!). Use the following code as a starting point."
      ]
    },
    {
      "cell_type": "code",
      "execution_count": 7,
      "id": "14",
      "metadata": {},
      "outputs": [
        {
          "data": {
            "text/plain": [
              "dot_product (generic function with 1 method)"
            ]
          },
          "metadata": {},
          "output_type": "display_data"
        }
      ],
      "source": [
        "function dot_product(x, y)\n",
        "    if length(x)==length(y) # insert test condition for equal lengths\n",
        "       dp=x.*y # compute and return dot product\n",
        "       s=sum(dp)\n",
        "    else\n",
        "        throw(DimensionMismatch(\"length of x not equal to length of y\"))\n",
        "    end\n",
        "end"
      ]
    },
    {
      "cell_type": "markdown",
      "id": "8a0e7e3b",
      "metadata": {},
      "source": [
        "I checked if the imputed vectors are the same length and then created a dot product if they are."
      ]
    },
    {
      "cell_type": "code",
      "execution_count": null,
      "id": "e25f616e",
      "metadata": {},
      "outputs": [],
      "source": []
    },
    {
      "cell_type": "markdown",
      "id": "e0ce47a6-a5e8-4cd8-a776-5b04adfa6330",
      "metadata": {},
      "source": [
        "Here are some tests to make sure your code works as intended. Tests like\n",
        "these are useful to make sure everything works as intended. One reason\n",
        "to split your code up into functions is that it makes it straightforward\n",
        "to write tests to make sure each piece of your code works, which makes\n",
        "it easier to identify where errors are occuring."
      ]
    },
    {
      "cell_type": "code",
      "execution_count": 8,
      "id": "16",
      "metadata": {},
      "outputs": [
        {
          "data": {
            "text/plain": [
              "32"
            ]
          },
          "metadata": {},
          "output_type": "display_data"
        }
      ],
      "source": [
        "dot_product([1 2 3], [4 5 6])"
      ]
    },
    {
      "cell_type": "markdown",
      "id": "37f85171-25e8-4513-b57c-af25ff4378e7",
      "metadata": {},
      "source": [
        "If you know the value you should get, you can write a more formal test\n",
        "using the `@assert` macro, which is a good way to “automate” checking\n",
        "(since you get an obvious error if the code doesn’t work as desired):"
      ]
    },
    {
      "cell_type": "code",
      "execution_count": 9,
      "id": "18",
      "metadata": {},
      "outputs": [],
      "source": [
        "@assert dot_product([1 2 3], [4 5 6]) == 32"
      ]
    },
    {
      "cell_type": "markdown",
      "id": "9fc79916",
      "metadata": {},
      "source": []
    },
    {
      "cell_type": "markdown",
      "id": "65ccdcd8-449e-4f0c-8f4e-7953ea267f8d",
      "metadata": {},
      "source": [
        "Let’s also make sure we get an error when the dimensions of the two\n",
        "vectors don’t match:"
      ]
    },
    {
      "cell_type": "code",
      "execution_count": 11,
      "id": "20",
      "metadata": {},
      "outputs": [
        {
          "ename": "DimensionMismatch",
          "evalue": "DimensionMismatch: length of x not equal to length of y",
          "output_type": "error",
          "traceback": [
            "DimensionMismatch: length of x not equal to length of y\n",
            "\n",
            "Stacktrace:\n",
            " [1] dot_product(x::Matrix{Int64}, y::Matrix{Int64})\n",
            "   @ Main ~/Desktop/BEE4750/hw/lab-1-lilyblyn/jl_notebook_cell_df34fa98e69747e1a8f8a730347b8e2f_X15sZmlsZQ==.jl:6\n",
            " [2] top-level scope\n",
            "   @ ~/Desktop/BEE4750/hw/lab-1-lilyblyn/jl_notebook_cell_df34fa98e69747e1a8f8a730347b8e2f_X24sZmlsZQ==.jl:1"
          ]
        }
      ],
      "source": [
        "dot_product([1 2 3], [4 5])"
      ]
    },
    {
      "cell_type": "markdown",
      "id": "8c069a05-159a-43b4-aa3f-d1fec9a2f727",
      "metadata": {},
      "source": [
        "### Making a Plot\n",
        "\n",
        "Write a function to compute the square of an integer `x`. Evaluate this\n",
        "function for integers between $x=-5$ and $x=5$ and make a plot of the\n",
        "squared values (you can find a quick guide to making various types of\n",
        "plots\n",
        "[here](https://viveks.me/environmental-systems-analysis/tutorials/julia-plots.html)).\n",
        "Make sure to label your axes."
      ]
    },
    {
      "cell_type": "code",
      "execution_count": 12,
      "id": "22",
      "metadata": {},
      "outputs": [
        {
          "data": {
            "image/png": "[encoded data removed]",
            "image/svg+xml": [
              "<?xml version=\"1.0\" encoding=\"utf-8\"?>\n",
              "<svg xmlns=\"http://www.w3.org/2000/svg\" xmlns:xlink=\"http://www.w3.org/1999/xlink\" width=\"600\" height=\"400\" viewBox=\"0 0 2400 1600\">\n",
              "<defs>\n",
              "  <clipPath id=\"clip980\">\n",
              "    <rect x=\"0\" y=\"0\" width=\"2400\" height=\"1600\"/>\n",
              "  </clipPath>\n",
              "</defs>\n",
              "<path clip-path=\"url(#clip980)\" d=\"M0 1600 L2400 1600 L2400 8.88178e-14 L0 8.88178e-14  Z\" fill=\"#ffffff\" fill-rule=\"evenodd\" fill-opacity=\"1\"/>\n",
              "<defs>\n",
              "  <clipPath id=\"clip981\">\n",
              "    <rect x=\"480\" y=\"0\" width=\"1681\" height=\"1600\"/>\n",
              "  </clipPath>\n",
              "</defs>\n",
              "<path clip-path=\"url(#clip980)\" d=\"M203.964 1423.18 L2352.76 1423.18 L2352.76 47.2441 L203.964 47.2441  Z\" fill=\"#ffffff\" fill-rule=\"evenodd\" fill-opacity=\"1\"/>\n",
              "<defs>\n",
              "  <clipPath id=\"clip982\">\n",
              "    <rect x=\"203\" y=\"47\" width=\"2150\" height=\"1377\"/>\n",
              "  </clipPath>\n",
              "</defs>\n",
              "<polyline clip-path=\"url(#clip982)\" style=\"stroke:#000000; stroke-linecap:round; stroke-linejoin:round; stroke-width:2; stroke-opacity:0.1; fill:none\" points=\"467.495,1423.18 467.495,47.2441 \"/>\n",
              "<polyline clip-path=\"url(#clip982)\" style=\"stroke:#000000; stroke-linecap:round; stroke-linejoin:round; stroke-width:2; stroke-opacity:0.1; fill:none\" points=\"872.927,1423.18 872.927,47.2441 \"/>\n",
              "<polyline clip-path=\"url(#clip982)\" style=\"stroke:#000000; stroke-linecap:round; stroke-linejoin:round; stroke-width:2; stroke-opacity:0.1; fill:none\" points=\"1278.36,1423.18 1278.36,47.2441 \"/>\n",
              "<polyline clip-path=\"url(#clip982)\" style=\"stroke:#000000; stroke-linecap:round; stroke-linejoin:round; stroke-width:2; stroke-opacity:0.1; fill:none\" points=\"1683.79,1423.18 1683.79,47.2441 \"/>\n",
              "<polyline clip-path=\"url(#clip982)\" style=\"stroke:#000000; stroke-linecap:round; stroke-linejoin:round; stroke-width:2; stroke-opacity:0.1; fill:none\" points=\"2089.22,1423.18 2089.22,47.2441 \"/>\n",
              "<polyline clip-path=\"url(#clip980)\" style=\"stroke:#000000; stroke-linecap:round; stroke-linejoin:round; stroke-width:4; stroke-opacity:1; fill:none\" points=\"203.964,1423.18 2352.76,1423.18 \"/>\n",
              "<polyline clip-path=\"url(#clip980)\" style=\"stroke:#000000; stroke-linecap:round; stroke-linejoin:round; stroke-width:4; stroke-opacity:1; fill:none\" points=\"467.495,1423.18 467.495,1404.28 \"/>\n",
              "<polyline clip-path=\"url(#clip980)\" style=\"stroke:#000000; stroke-linecap:round; stroke-linejoin:round; stroke-width:4; stroke-opacity:1; fill:none\" points=\"872.927,1423.18 872.927,1404.28 \"/>\n",
              "<polyline clip-path=\"url(#clip980)\" style=\"stroke:#000000; stroke-linecap:round; stroke-linejoin:round; stroke-width:4; stroke-opacity:1; fill:none\" points=\"1278.36,1423.18 1278.36,1404.28 \"/>\n",
              "<polyline clip-path=\"url(#clip980)\" style=\"stroke:#000000; stroke-linecap:round; stroke-linejoin:round; stroke-width:4; stroke-opacity:1; fill:none\" points=\"1683.79,1423.18 1683.79,1404.28 \"/>\n",
              "<polyline clip-path=\"url(#clip980)\" style=\"stroke:#000000; stroke-linecap:round; stroke-linejoin:round; stroke-width:4; stroke-opacity:1; fill:none\" points=\"2089.22,1423.18 2089.22,1404.28 \"/>\n",
              "<path clip-path=\"url(#clip980)\" d=\"M436.395 1468.75 L466.071 1468.75 L466.071 1472.69 L436.395 1472.69 L436.395 1468.75 Z\" fill=\"#000000\" fill-rule=\"nonzero\" fill-opacity=\"1\" /><path clip-path=\"url(#clip980)\" d=\"M489.011 1455.09 L477.205 1473.54 L489.011 1473.54 L489.011 1455.09 M487.784 1451.02 L493.664 1451.02 L493.664 1473.54 L498.594 1473.54 L498.594 1477.43 L493.664 1477.43 L493.664 1485.58 L489.011 1485.58 L489.011 1477.43 L473.409 1477.43 L473.409 1472.92 L487.784 1451.02 Z\" fill=\"#000000\" fill-rule=\"nonzero\" fill-opacity=\"1\" /><path clip-path=\"url(#clip980)\" d=\"M842.87 1468.75 L872.545 1468.75 L872.545 1472.69 L842.87 1472.69 L842.87 1468.75 Z\" fill=\"#000000\" fill-rule=\"nonzero\" fill-opacity=\"1\" /><path clip-path=\"url(#clip980)\" d=\"M886.666 1481.64 L902.985 1481.64 L902.985 1485.58 L881.041 1485.58 L881.041 1481.64 Q883.703 1478.89 888.286 1474.26 Q892.892 1469.61 894.073 1468.27 Q896.318 1465.74 897.198 1464.01 Q898.101 1462.25 898.101 1460.56 Q898.101 1457.8 896.156 1456.07 Q894.235 1454.33 891.133 1454.33 Q888.934 1454.33 886.48 1455.09 Q884.05 1455.86 881.272 1457.41 L881.272 1452.69 Q884.096 1451.55 886.55 1450.97 Q889.004 1450.39 891.041 1450.39 Q896.411 1450.39 899.605 1453.08 Q902.8 1455.77 902.8 1460.26 Q902.8 1462.39 901.99 1464.31 Q901.203 1466.2 899.096 1468.8 Q898.517 1469.47 895.416 1472.69 Q892.314 1475.88 886.666 1481.64 Z\" fill=\"#000000\" fill-rule=\"nonzero\" fill-opacity=\"1\" /><path clip-path=\"url(#clip980)\" d=\"M1278.36 1454.1 Q1274.75 1454.1 1272.92 1457.66 Q1271.11 1461.2 1271.11 1468.33 Q1271.11 1475.44 1272.92 1479.01 Q1274.75 1482.55 1278.36 1482.55 Q1281.99 1482.55 1283.8 1479.01 Q1285.63 1475.44 1285.63 1468.33 Q1285.63 1461.2 1283.8 1457.66 Q1281.99 1454.1 1278.36 1454.1 M1278.36 1450.39 Q1284.17 1450.39 1287.23 1455 Q1290.3 1459.58 1290.3 1468.33 Q1290.3 1477.06 1287.23 1481.67 Q1284.17 1486.25 1278.36 1486.25 Q1272.55 1486.25 1269.47 1481.67 Q1266.42 1477.06 1266.42 1468.33 Q1266.42 1459.58 1269.47 1455 Q1272.55 1450.39 1278.36 1450.39 Z\" fill=\"#000000\" fill-rule=\"nonzero\" fill-opacity=\"1\" /><path clip-path=\"url(#clip980)\" d=\"M1678.45 1481.64 L1694.76 1481.64 L1694.76 1485.58 L1672.82 1485.58 L1672.82 1481.64 Q1675.48 1478.89 1680.07 1474.26 Q1684.67 1469.61 1685.85 1468.27 Q1688.1 1465.74 1688.98 1464.01 Q1689.88 1462.25 1689.88 1460.56 Q1689.88 1457.8 1687.94 1456.07 Q1686.01 1454.33 1682.91 1454.33 Q1680.71 1454.33 1678.26 1455.09 Q1675.83 1455.86 1673.05 1457.41 L1673.05 1452.69 Q1675.88 1451.55 1678.33 1450.97 Q1680.78 1450.39 1682.82 1450.39 Q1688.19 1450.39 1691.38 1453.08 Q1694.58 1455.77 1694.58 1460.26 Q1694.58 1462.39 1693.77 1464.31 Q1692.98 1466.2 1690.88 1468.8 Q1690.3 1469.47 1687.2 1472.69 Q1684.09 1475.88 1678.45 1481.64 Z\" fill=\"#000000\" fill-rule=\"nonzero\" fill-opacity=\"1\" /><path clip-path=\"url(#clip980)\" d=\"M2092.23 1455.09 L2080.43 1473.54 L2092.23 1473.54 L2092.23 1455.09 M2091.01 1451.02 L2096.89 1451.02 L2096.89 1473.54 L2101.82 1473.54 L2101.82 1477.43 L2096.89 1477.43 L2096.89 1485.58 L2092.23 1485.58 L2092.23 1477.43 L2076.63 1477.43 L2076.63 1472.92 L2091.01 1451.02 Z\" fill=\"#000000\" fill-rule=\"nonzero\" fill-opacity=\"1\" /><path clip-path=\"url(#clip980)\" d=\"M1148.93 1520.52 L1155.36 1520.52 L1155.36 1568.04 L1148.93 1568.04 L1148.93 1520.52 Z\" fill=\"#000000\" fill-rule=\"nonzero\" fill-opacity=\"1\" /><path clip-path=\"url(#clip980)\" d=\"M1197.53 1546.53 L1197.53 1568.04 L1191.67 1568.04 L1191.67 1546.72 Q1191.67 1541.66 1189.7 1539.14 Q1187.73 1536.63 1183.78 1536.63 Q1179.04 1536.63 1176.3 1539.65 Q1173.56 1542.68 1173.56 1547.9 L1173.56 1568.04 L1167.68 1568.04 L1167.68 1532.4 L1173.56 1532.4 L1173.56 1537.93 Q1175.66 1534.72 1178.5 1533.13 Q1181.36 1531.54 1185.09 1531.54 Q1191.23 1531.54 1194.38 1535.36 Q1197.53 1539.14 1197.53 1546.53 Z\" fill=\"#000000\" fill-rule=\"nonzero\" fill-opacity=\"1\" /><path clip-path=\"url(#clip980)\" d=\"M1215.01 1522.27 L1215.01 1532.4 L1227.07 1532.4 L1227.07 1536.95 L1215.01 1536.95 L1215.01 1556.3 Q1215.01 1560.66 1216.18 1561.9 Q1217.39 1563.14 1221.05 1563.14 L1227.07 1563.14 L1227.07 1568.04 L1221.05 1568.04 Q1214.27 1568.04 1211.69 1565.53 Q1209.12 1562.98 1209.12 1556.3 L1209.12 1536.95 L1204.82 1536.95 L1204.82 1532.4 L1209.12 1532.4 L1209.12 1522.27 L1215.01 1522.27 Z\" fill=\"#000000\" fill-rule=\"nonzero\" fill-opacity=\"1\" /><path clip-path=\"url(#clip980)\" d=\"M1265.26 1548.76 L1265.26 1551.62 L1238.34 1551.62 Q1238.72 1557.67 1241.96 1560.85 Q1245.24 1564 1251.07 1564 Q1254.44 1564 1257.59 1563.17 Q1260.77 1562.35 1263.89 1560.69 L1263.89 1566.23 Q1260.74 1567.57 1257.43 1568.27 Q1254.12 1568.97 1250.72 1568.97 Q1242.19 1568.97 1237.19 1564 Q1232.22 1559.04 1232.22 1550.57 Q1232.22 1541.82 1236.93 1536.69 Q1241.68 1531.54 1249.7 1531.54 Q1256.89 1531.54 1261.06 1536.18 Q1265.26 1540.8 1265.26 1548.76 M1259.41 1547.04 Q1259.34 1542.23 1256.7 1539.37 Q1254.09 1536.5 1249.76 1536.5 Q1244.86 1536.5 1241.9 1539.27 Q1238.97 1542.04 1238.53 1547.07 L1259.41 1547.04 Z\" fill=\"#000000\" fill-rule=\"nonzero\" fill-opacity=\"1\" /><path clip-path=\"url(#clip980)\" d=\"M1298.33 1549.81 Q1298.33 1543.44 1295.69 1539.94 Q1293.08 1536.44 1288.34 1536.44 Q1283.63 1536.44 1280.99 1539.94 Q1278.38 1543.44 1278.38 1549.81 Q1278.38 1556.14 1280.99 1559.64 Q1283.63 1563.14 1288.34 1563.14 Q1293.08 1563.14 1295.69 1559.64 Q1298.33 1556.14 1298.33 1549.81 M1304.19 1563.62 Q1304.19 1572.72 1300.15 1577.15 Q1296.1 1581.6 1287.77 1581.6 Q1284.68 1581.6 1281.94 1581.13 Q1279.2 1580.68 1276.63 1579.72 L1276.63 1574.03 Q1279.2 1575.43 1281.72 1576.1 Q1284.23 1576.76 1286.84 1576.76 Q1292.6 1576.76 1295.47 1573.74 Q1298.33 1570.75 1298.33 1564.67 L1298.33 1561.77 Q1296.52 1564.92 1293.69 1566.48 Q1290.85 1568.04 1286.91 1568.04 Q1280.35 1568.04 1276.34 1563.05 Q1272.33 1558.05 1272.33 1549.81 Q1272.33 1541.53 1276.34 1536.53 Q1280.35 1531.54 1286.91 1531.54 Q1290.85 1531.54 1293.69 1533.1 Q1296.52 1534.66 1298.33 1537.81 L1298.33 1532.4 L1304.19 1532.4 L1304.19 1563.62 Z\" fill=\"#000000\" fill-rule=\"nonzero\" fill-opacity=\"1\" /><path clip-path=\"url(#clip980)\" d=\"M1346.74 1548.76 L1346.74 1551.62 L1319.82 1551.62 Q1320.2 1557.67 1323.44 1560.85 Q1326.72 1564 1332.55 1564 Q1335.92 1564 1339.07 1563.17 Q1342.26 1562.35 1345.37 1560.69 L1345.37 1566.23 Q1342.22 1567.57 1338.91 1568.27 Q1335.6 1568.97 1332.2 1568.97 Q1323.67 1568.97 1318.67 1564 Q1313.71 1559.04 1313.71 1550.57 Q1313.71 1541.82 1318.42 1536.69 Q1323.16 1531.54 1331.18 1531.54 Q1338.37 1531.54 1342.54 1536.18 Q1346.74 1540.8 1346.74 1548.76 M1340.89 1547.04 Q1340.82 1542.23 1338.18 1539.37 Q1335.57 1536.5 1331.24 1536.5 Q1326.34 1536.5 1323.38 1539.27 Q1320.45 1542.04 1320.01 1547.07 L1340.89 1547.04 Z\" fill=\"#000000\" fill-rule=\"nonzero\" fill-opacity=\"1\" /><path clip-path=\"url(#clip980)\" d=\"M1377.01 1537.87 Q1376.03 1537.3 1374.85 1537.04 Q1373.7 1536.76 1372.3 1536.76 Q1367.34 1536.76 1364.66 1540 Q1362.02 1543.22 1362.02 1549.27 L1362.02 1568.04 L1356.13 1568.04 L1356.13 1532.4 L1362.02 1532.4 L1362.02 1537.93 Q1363.87 1534.69 1366.83 1533.13 Q1369.79 1531.54 1374.02 1531.54 Q1374.63 1531.54 1375.36 1531.63 Q1376.09 1531.7 1376.98 1531.85 L1377.01 1537.87 Z\" fill=\"#000000\" fill-rule=\"nonzero\" fill-opacity=\"1\" /><path clip-path=\"url(#clip980)\" d=\"M1405.88 1533.45 L1405.88 1538.98 Q1403.4 1537.71 1400.72 1537.07 Q1398.05 1536.44 1395.19 1536.44 Q1390.83 1536.44 1388.63 1537.77 Q1386.47 1539.11 1386.47 1541.79 Q1386.47 1543.82 1388.02 1545 Q1389.58 1546.15 1394.3 1547.2 L1396.3 1547.64 Q1402.54 1548.98 1405.15 1551.43 Q1407.79 1553.85 1407.79 1558.21 Q1407.79 1563.17 1403.84 1566.07 Q1399.93 1568.97 1393.05 1568.97 Q1390.19 1568.97 1387.07 1568.39 Q1383.98 1567.85 1380.55 1566.74 L1380.55 1560.69 Q1383.79 1562.38 1386.94 1563.24 Q1390.09 1564.07 1393.18 1564.07 Q1397.32 1564.07 1399.55 1562.66 Q1401.77 1561.23 1401.77 1558.65 Q1401.77 1556.27 1400.15 1554.99 Q1398.56 1553.72 1393.12 1552.54 L1391.08 1552.07 Q1385.64 1550.92 1383.22 1548.56 Q1380.8 1546.18 1380.8 1542.04 Q1380.8 1537.01 1384.36 1534.27 Q1387.93 1531.54 1394.49 1531.54 Q1397.73 1531.54 1400.6 1532.01 Q1403.46 1532.49 1405.88 1533.45 Z\" fill=\"#000000\" fill-rule=\"nonzero\" fill-opacity=\"1\" /><polyline clip-path=\"url(#clip982)\" style=\"stroke:#000000; stroke-linecap:round; stroke-linejoin:round; stroke-width:2; stroke-opacity:0.1; fill:none\" points=\"203.964,1384.24 2352.76,1384.24 \"/>\n",
              "<polyline clip-path=\"url(#clip982)\" style=\"stroke:#000000; stroke-linecap:round; stroke-linejoin:round; stroke-width:2; stroke-opacity:0.1; fill:none\" points=\"203.964,1124.63 2352.76,1124.63 \"/>\n",
              "<polyline clip-path=\"url(#clip982)\" style=\"stroke:#000000; stroke-linecap:round; stroke-linejoin:round; stroke-width:2; stroke-opacity:0.1; fill:none\" points=\"203.964,865.017 2352.76,865.017 \"/>\n",
              "<polyline clip-path=\"url(#clip982)\" style=\"stroke:#000000; stroke-linecap:round; stroke-linejoin:round; stroke-width:2; stroke-opacity:0.1; fill:none\" points=\"203.964,605.407 2352.76,605.407 \"/>\n",
              "<polyline clip-path=\"url(#clip982)\" style=\"stroke:#000000; stroke-linecap:round; stroke-linejoin:round; stroke-width:2; stroke-opacity:0.1; fill:none\" points=\"203.964,345.796 2352.76,345.796 \"/>\n",
              "<polyline clip-path=\"url(#clip982)\" style=\"stroke:#000000; stroke-linecap:round; stroke-linejoin:round; stroke-width:2; stroke-opacity:0.1; fill:none\" points=\"203.964,86.1857 2352.76,86.1857 \"/>\n",
              "<polyline clip-path=\"url(#clip980)\" style=\"stroke:#000000; stroke-linecap:round; stroke-linejoin:round; stroke-width:4; stroke-opacity:1; fill:none\" points=\"203.964,1423.18 203.964,47.2441 \"/>\n",
              "<polyline clip-path=\"url(#clip980)\" style=\"stroke:#000000; stroke-linecap:round; stroke-linejoin:round; stroke-width:4; stroke-opacity:1; fill:none\" points=\"203.964,1384.24 222.861,1384.24 \"/>\n",
              "<polyline clip-path=\"url(#clip980)\" style=\"stroke:#000000; stroke-linecap:round; stroke-linejoin:round; stroke-width:4; stroke-opacity:1; fill:none\" points=\"203.964,1124.63 222.861,1124.63 \"/>\n",
              "<polyline clip-path=\"url(#clip980)\" style=\"stroke:#000000; stroke-linecap:round; stroke-linejoin:round; stroke-width:4; stroke-opacity:1; fill:none\" points=\"203.964,865.017 222.861,865.017 \"/>\n",
              "<polyline clip-path=\"url(#clip980)\" style=\"stroke:#000000; stroke-linecap:round; stroke-linejoin:round; stroke-width:4; stroke-opacity:1; fill:none\" points=\"203.964,605.407 222.861,605.407 \"/>\n",
              "<polyline clip-path=\"url(#clip980)\" style=\"stroke:#000000; stroke-linecap:round; stroke-linejoin:round; stroke-width:4; stroke-opacity:1; fill:none\" points=\"203.964,345.796 222.861,345.796 \"/>\n",
              "<polyline clip-path=\"url(#clip980)\" style=\"stroke:#000000; stroke-linecap:round; stroke-linejoin:round; stroke-width:4; stroke-opacity:1; fill:none\" points=\"203.964,86.1857 222.861,86.1857 \"/>\n",
              "<path clip-path=\"url(#clip980)\" d=\"M156.019 1370.04 Q152.408 1370.04 150.579 1373.6 Q148.774 1377.14 148.774 1384.27 Q148.774 1391.38 150.579 1394.94 Q152.408 1398.49 156.019 1398.49 Q159.653 1398.49 161.459 1394.94 Q163.288 1391.38 163.288 1384.27 Q163.288 1377.14 161.459 1373.6 Q159.653 1370.04 156.019 1370.04 M156.019 1366.33 Q161.829 1366.33 164.885 1370.94 Q167.964 1375.52 167.964 1384.27 Q167.964 1393 164.885 1397.61 Q161.829 1402.19 156.019 1402.19 Q150.209 1402.19 147.13 1397.61 Q144.075 1393 144.075 1384.27 Q144.075 1375.52 147.13 1370.94 Q150.209 1366.33 156.019 1366.33 Z\" fill=\"#000000\" fill-rule=\"nonzero\" fill-opacity=\"1\" /><path clip-path=\"url(#clip980)\" d=\"M147.061 1107.35 L165.417 1107.35 L165.417 1111.28 L151.343 1111.28 L151.343 1119.76 Q152.362 1119.41 153.38 1119.25 Q154.399 1119.06 155.417 1119.06 Q161.204 1119.06 164.584 1122.23 Q167.964 1125.4 167.964 1130.82 Q167.964 1136.4 164.491 1139.5 Q161.019 1142.58 154.7 1142.58 Q152.524 1142.58 150.255 1142.21 Q148.01 1141.84 145.603 1141.1 L145.603 1136.4 Q147.686 1137.53 149.908 1138.09 Q152.13 1138.64 154.607 1138.64 Q158.612 1138.64 160.95 1136.54 Q163.288 1134.43 163.288 1130.82 Q163.288 1127.21 160.95 1125.1 Q158.612 1123 154.607 1123 Q152.732 1123 150.857 1123.41 Q149.005 1123.83 147.061 1124.71 L147.061 1107.35 Z\" fill=\"#000000\" fill-rule=\"nonzero\" fill-opacity=\"1\" /><path clip-path=\"url(#clip980)\" d=\"M116.668 878.362 L124.306 878.362 L124.306 851.996 L115.996 853.663 L115.996 849.404 L124.26 847.737 L128.936 847.737 L128.936 878.362 L136.575 878.362 L136.575 882.297 L116.668 882.297 L116.668 878.362 Z\" fill=\"#000000\" fill-rule=\"nonzero\" fill-opacity=\"1\" /><path clip-path=\"url(#clip980)\" d=\"M156.019 850.816 Q152.408 850.816 150.579 854.381 Q148.774 857.922 148.774 865.052 Q148.774 872.158 150.579 875.723 Q152.408 879.265 156.019 879.265 Q159.653 879.265 161.459 875.723 Q163.288 872.158 163.288 865.052 Q163.288 857.922 161.459 854.381 Q159.653 850.816 156.019 850.816 M156.019 847.112 Q161.829 847.112 164.885 851.719 Q167.964 856.302 167.964 865.052 Q167.964 873.779 164.885 878.385 Q161.829 882.969 156.019 882.969 Q150.209 882.969 147.13 878.385 Q144.075 873.779 144.075 865.052 Q144.075 856.302 147.13 851.719 Q150.209 847.112 156.019 847.112 Z\" fill=\"#000000\" fill-rule=\"nonzero\" fill-opacity=\"1\" /><path clip-path=\"url(#clip980)\" d=\"M117.663 618.752 L125.302 618.752 L125.302 592.386 L116.992 594.053 L116.992 589.793 L125.255 588.127 L129.931 588.127 L129.931 618.752 L137.57 618.752 L137.57 622.687 L117.663 622.687 L117.663 618.752 Z\" fill=\"#000000\" fill-rule=\"nonzero\" fill-opacity=\"1\" /><path clip-path=\"url(#clip980)\" d=\"M147.061 588.127 L165.417 588.127 L165.417 592.062 L151.343 592.062 L151.343 600.534 Q152.362 600.187 153.38 600.025 Q154.399 599.84 155.417 599.84 Q161.204 599.84 164.584 603.011 Q167.964 606.182 167.964 611.599 Q167.964 617.177 164.491 620.279 Q161.019 623.358 154.7 623.358 Q152.524 623.358 150.255 622.988 Q148.01 622.617 145.603 621.877 L145.603 617.177 Q147.686 618.312 149.908 618.867 Q152.13 619.423 154.607 619.423 Q158.612 619.423 160.95 617.316 Q163.288 615.21 163.288 611.599 Q163.288 607.988 160.95 605.881 Q158.612 603.775 154.607 603.775 Q152.732 603.775 150.857 604.191 Q149.005 604.608 147.061 605.488 L147.061 588.127 Z\" fill=\"#000000\" fill-rule=\"nonzero\" fill-opacity=\"1\" /><path clip-path=\"url(#clip980)\" d=\"M119.885 359.141 L136.204 359.141 L136.204 363.076 L114.26 363.076 L114.26 359.141 Q116.922 356.386 121.505 351.757 Q126.112 347.104 127.292 345.761 Q129.538 343.238 130.417 341.502 Q131.32 339.743 131.32 338.053 Q131.32 335.299 129.376 333.562 Q127.455 331.826 124.353 331.826 Q122.154 331.826 119.7 332.59 Q117.269 333.354 114.492 334.905 L114.492 330.183 Q117.316 329.049 119.769 328.47 Q122.223 327.891 124.26 327.891 Q129.63 327.891 132.825 330.576 Q136.019 333.262 136.019 337.752 Q136.019 339.882 135.209 341.803 Q134.422 343.701 132.316 346.294 Q131.737 346.965 128.635 350.183 Q125.533 353.377 119.885 359.141 Z\" fill=\"#000000\" fill-rule=\"nonzero\" fill-opacity=\"1\" /><path clip-path=\"url(#clip980)\" d=\"M156.019 331.595 Q152.408 331.595 150.579 335.16 Q148.774 338.701 148.774 345.831 Q148.774 352.937 150.579 356.502 Q152.408 360.044 156.019 360.044 Q159.653 360.044 161.459 356.502 Q163.288 352.937 163.288 345.831 Q163.288 338.701 161.459 335.16 Q159.653 331.595 156.019 331.595 M156.019 327.891 Q161.829 327.891 164.885 332.498 Q167.964 337.081 167.964 345.831 Q167.964 354.558 164.885 359.164 Q161.829 363.747 156.019 363.747 Q150.209 363.747 147.13 359.164 Q144.075 354.558 144.075 345.831 Q144.075 337.081 147.13 332.498 Q150.209 327.891 156.019 327.891 Z\" fill=\"#000000\" fill-rule=\"nonzero\" fill-opacity=\"1\" /><path clip-path=\"url(#clip980)\" d=\"M120.88 99.5305 L137.2 99.5305 L137.2 103.466 L115.256 103.466 L115.256 99.5305 Q117.918 96.7759 122.501 92.1463 Q127.107 87.4935 128.288 86.151 Q130.533 83.6278 131.413 81.8917 Q132.316 80.1325 132.316 78.4427 Q132.316 75.688 130.371 73.9519 Q128.45 72.2158 125.348 72.2158 Q123.149 72.2158 120.695 72.9797 Q118.265 73.7436 115.487 75.2945 L115.487 70.5723 Q118.311 69.4381 120.765 68.8594 Q123.218 68.2807 125.255 68.2807 Q130.626 68.2807 133.82 70.9658 Q137.015 73.651 137.015 78.1417 Q137.015 80.2714 136.204 82.1926 Q135.417 84.0908 133.311 86.6834 Q132.732 87.3546 129.63 90.5722 Q126.529 93.7667 120.88 99.5305 Z\" fill=\"#000000\" fill-rule=\"nonzero\" fill-opacity=\"1\" /><path clip-path=\"url(#clip980)\" d=\"M147.061 68.9057 L165.417 68.9057 L165.417 72.8408 L151.343 72.8408 L151.343 81.313 Q152.362 80.9658 153.38 80.8038 Q154.399 80.6186 155.417 80.6186 Q161.204 80.6186 164.584 83.7899 Q167.964 86.9611 167.964 92.3778 Q167.964 97.9564 164.491 101.058 Q161.019 104.137 154.7 104.137 Q152.524 104.137 150.255 103.767 Q148.01 103.396 145.603 102.655 L145.603 97.9564 Q147.686 99.0907 149.908 99.6462 Q152.13 100.202 154.607 100.202 Q158.612 100.202 160.95 98.0953 Q163.288 95.9889 163.288 92.3778 Q163.288 88.7667 160.95 86.6602 Q158.612 84.5537 154.607 84.5537 Q152.732 84.5537 150.857 84.9704 Q149.005 85.3871 147.061 86.2667 L147.061 68.9057 Z\" fill=\"#000000\" fill-rule=\"nonzero\" fill-opacity=\"1\" /><path clip-path=\"url(#clip980)\" d=\"M18.0438 980.896 L24.314 980.896 Q22.5634 984.557 21.704 987.803 Q20.8447 991.05 20.8447 994.073 Q20.8447 999.325 22.8817 1002.19 Q24.9187 1005.02 28.6745 1005.02 Q31.8255 1005.02 33.4488 1003.14 Q35.0402 1001.23 36.0269 995.951 L36.8226 992.068 Q38.1912 984.875 41.6605 981.469 Q45.098 978.032 50.8908 978.032 Q57.7976 978.032 61.3624 982.679 Q64.9272 987.294 64.9272 996.238 Q64.9272 999.612 64.1633 1003.43 Q63.3994 1007.22 61.9035 1011.29 L55.2831 1011.29 Q57.4793 1007.38 58.5933 1003.62 Q59.7073 999.866 59.7073 996.238 Q59.7073 990.731 57.543 987.74 Q55.3786 984.748 51.3682 984.748 Q47.8671 984.748 45.8937 986.912 Q43.9204 989.045 42.9337 993.946 L42.1698 997.861 Q40.7375 1005.05 37.682 1008.27 Q34.6264 1011.48 29.1837 1011.48 Q22.8817 1011.48 19.2532 1007.06 Q15.6248 1002.6 15.6248 994.805 Q15.6248 991.463 16.2295 987.994 Q16.8343 984.525 18.0438 980.896 Z\" fill=\"#000000\" fill-rule=\"nonzero\" fill-opacity=\"1\" /><path clip-path=\"url(#clip980)\" d=\"M46.212 964.759 Q52.6732 964.759 56.3653 962.118 Q60.0256 959.444 60.0256 954.797 Q60.0256 950.15 56.3653 947.476 Q52.6732 944.803 46.212 944.803 Q39.7508 944.803 36.0905 947.476 Q32.3984 950.15 32.3984 954.797 Q32.3984 959.444 36.0905 962.118 Q39.7508 964.759 46.212 964.759 M58.657 944.803 Q61.8398 946.649 63.3994 949.482 Q64.9272 952.283 64.9272 956.229 Q64.9272 962.69 59.771 966.765 Q54.6147 970.807 46.212 970.807 Q37.8093 970.807 32.6531 966.765 Q27.4968 962.69 27.4968 956.229 Q27.4968 952.283 29.0564 949.482 Q30.5842 946.649 33.7671 944.803 L28.3562 944.803 L28.3562 938.946 L77.5631 938.946 L77.5631 944.803 L58.657 944.803 Z\" fill=\"#000000\" fill-rule=\"nonzero\" fill-opacity=\"1\" /><path clip-path=\"url(#clip980)\" d=\"M49.9359 927.488 L28.3562 927.488 L28.3562 921.632 L49.7131 921.632 Q54.7739 921.632 57.3202 919.658 Q59.8346 917.685 59.8346 913.738 Q59.8346 908.996 56.8109 906.259 Q53.7872 903.489 48.5673 903.489 L28.3562 903.489 L28.3562 897.633 L64.0042 897.633 L64.0042 903.489 L58.5296 903.489 Q61.7762 905.622 63.3676 908.455 Q64.9272 911.256 64.9272 914.98 Q64.9272 921.122 61.1078 924.305 Q57.2883 927.488 49.9359 927.488 M27.4968 912.752 L27.4968 912.752 Z\" fill=\"#000000\" fill-rule=\"nonzero\" fill-opacity=\"1\" /><path clip-path=\"url(#clip980)\" d=\"M46.0847 869.369 Q46.0847 876.467 47.7079 879.204 Q49.3312 881.942 53.2461 881.942 Q56.3653 881.942 58.2114 879.904 Q60.0256 877.836 60.0256 874.303 Q60.0256 869.433 56.5881 866.505 Q53.1188 863.545 47.3897 863.545 L46.0847 863.545 L46.0847 869.369 M43.6657 857.688 L64.0042 857.688 L64.0042 863.545 L58.5933 863.545 Q61.8398 865.55 63.3994 868.542 Q64.9272 871.534 64.9272 875.862 Q64.9272 881.337 61.8716 884.583 Q58.7843 887.798 53.6281 887.798 Q47.6125 887.798 44.5569 883.788 Q41.5014 879.745 41.5014 871.756 L41.5014 863.545 L40.9285 863.545 Q36.8862 863.545 34.6901 866.218 Q32.4621 868.86 32.4621 873.666 Q32.4621 876.722 33.1941 879.618 Q33.9262 882.514 35.3903 885.188 L29.9795 885.188 Q28.7381 881.973 28.1334 878.95 Q27.4968 875.926 27.4968 873.061 Q27.4968 865.327 31.5072 861.508 Q35.5176 857.688 43.6657 857.688 Z\" fill=\"#000000\" fill-rule=\"nonzero\" fill-opacity=\"1\" /><path clip-path=\"url(#clip980)\" d=\"M33.8307 824.968 Q33.2578 825.955 33.0032 827.133 Q32.7167 828.279 32.7167 829.679 Q32.7167 834.644 35.9632 837.318 Q39.1779 839.96 45.2253 839.96 L64.0042 839.96 L64.0042 845.848 L28.3562 845.848 L28.3562 839.96 L33.8944 839.96 Q30.6479 838.114 29.0883 835.154 Q27.4968 832.194 27.4968 827.96 Q27.4968 827.356 27.5923 826.624 Q27.656 825.891 27.8151 825 L33.8307 824.968 Z\" fill=\"#000000\" fill-rule=\"nonzero\" fill-opacity=\"1\" /><path clip-path=\"url(#clip980)\" d=\"M44.7161 789.766 L47.5806 789.766 L47.5806 816.693 Q53.6281 816.311 56.8109 813.065 Q59.9619 809.786 59.9619 803.962 Q59.9619 800.588 59.1344 797.437 Q58.3069 794.254 56.6518 791.135 L62.1899 791.135 Q63.5267 794.286 64.227 797.596 Q64.9272 800.906 64.9272 804.312 Q64.9272 812.842 59.9619 817.839 Q54.9967 822.804 46.5303 822.804 Q37.7774 822.804 32.6531 818.093 Q27.4968 813.351 27.4968 805.33 Q27.4968 798.137 32.1438 793.967 Q36.7589 789.766 44.7161 789.766 M42.9973 795.623 Q38.1912 795.686 35.3266 798.328 Q32.4621 800.938 32.4621 805.267 Q32.4621 810.168 35.2312 813.128 Q38.0002 816.056 43.0292 816.502 L42.9973 795.623 Z\" fill=\"#000000\" fill-rule=\"nonzero\" fill-opacity=\"1\" /><path clip-path=\"url(#clip980)\" d=\"M33.7671 756.696 L14.479 756.696 L14.479 750.84 L64.0042 750.84 L64.0042 756.696 L58.657 756.696 Q61.8398 758.542 63.3994 761.375 Q64.9272 764.176 64.9272 768.123 Q64.9272 774.584 59.771 778.658 Q54.6147 782.7 46.212 782.7 Q37.8093 782.7 32.6531 778.658 Q27.4968 774.584 27.4968 768.123 Q27.4968 764.176 29.0564 761.375 Q30.5842 758.542 33.7671 756.696 M46.212 776.653 Q52.6732 776.653 56.3653 774.011 Q60.0256 771.337 60.0256 766.69 Q60.0256 762.043 56.3653 759.37 Q52.6732 756.696 46.212 756.696 Q39.7508 756.696 36.0905 759.37 Q32.3984 762.043 32.3984 766.69 Q32.3984 771.337 36.0905 774.011 Q39.7508 776.653 46.212 776.653 Z\" fill=\"#000000\" fill-rule=\"nonzero\" fill-opacity=\"1\" /><path clip-path=\"url(#clip980)\" d=\"M16.4842 717.802 L16.4842 711.372 L64.0042 711.372 L64.0042 717.802 L16.4842 717.802 Z\" fill=\"#000000\" fill-rule=\"nonzero\" fill-opacity=\"1\" /><path clip-path=\"url(#clip980)\" d=\"M42.4881 669.2 L64.0042 669.2 L64.0042 675.056 L42.679 675.056 Q37.6183 675.056 35.1038 677.029 Q32.5894 679.003 32.5894 682.95 Q32.5894 687.692 35.6131 690.429 Q38.6368 693.166 43.8567 693.166 L64.0042 693.166 L64.0042 699.055 L28.3562 699.055 L28.3562 693.166 L33.8944 693.166 Q30.6797 691.066 29.0883 688.233 Q27.4968 685.368 27.4968 681.645 Q27.4968 675.502 31.3163 672.351 Q35.1038 669.2 42.4881 669.2 Z\" fill=\"#000000\" fill-rule=\"nonzero\" fill-opacity=\"1\" /><path clip-path=\"url(#clip980)\" d=\"M18.2347 651.726 L28.3562 651.726 L28.3562 639.663 L32.9077 639.663 L32.9077 651.726 L52.2594 651.726 Q56.6199 651.726 57.8613 650.548 Q59.1026 649.339 59.1026 645.678 L59.1026 639.663 L64.0042 639.663 L64.0042 645.678 Q64.0042 652.458 61.4897 655.036 Q58.9434 657.614 52.2594 657.614 L32.9077 657.614 L32.9077 661.911 L28.3562 661.911 L28.3562 657.614 L18.2347 657.614 L18.2347 651.726 Z\" fill=\"#000000\" fill-rule=\"nonzero\" fill-opacity=\"1\" /><path clip-path=\"url(#clip980)\" d=\"M44.7161 601.468 L47.5806 601.468 L47.5806 628.395 Q53.6281 628.013 56.8109 624.767 Q59.9619 621.489 59.9619 615.664 Q59.9619 612.29 59.1344 609.139 Q58.3069 605.956 56.6518 602.837 L62.1899 602.837 Q63.5267 605.988 64.227 609.298 Q64.9272 612.608 64.9272 616.014 Q64.9272 624.544 59.9619 629.541 Q54.9967 634.506 46.5303 634.506 Q37.7774 634.506 32.6531 629.796 Q27.4968 625.053 27.4968 617.033 Q27.4968 609.839 32.1438 605.67 Q36.7589 601.468 44.7161 601.468 M42.9973 607.325 Q38.1912 607.389 35.3266 610.03 Q32.4621 612.64 32.4621 616.969 Q32.4621 621.871 35.2312 624.831 Q38.0002 627.759 43.0292 628.204 L42.9973 607.325 Z\" fill=\"#000000\" fill-rule=\"nonzero\" fill-opacity=\"1\" /><path clip-path=\"url(#clip980)\" d=\"M45.7664 568.399 Q39.4007 568.399 35.8996 571.04 Q32.3984 573.65 32.3984 578.393 Q32.3984 583.103 35.8996 585.745 Q39.4007 588.355 45.7664 588.355 Q52.1003 588.355 55.6014 585.745 Q59.1026 583.103 59.1026 578.393 Q59.1026 573.65 55.6014 571.04 Q52.1003 568.399 45.7664 568.399 M59.58 562.542 Q68.683 562.542 73.1071 566.584 Q77.5631 570.627 77.5631 578.966 Q77.5631 582.053 77.0857 584.79 Q76.6401 587.528 75.6852 590.106 L69.9879 590.106 Q71.3884 587.528 72.0568 585.013 Q72.7252 582.499 72.7252 579.889 Q72.7252 574.128 69.7015 571.263 Q66.7096 568.399 60.6303 568.399 L57.7339 568.399 Q60.885 570.213 62.4446 573.046 Q64.0042 575.878 64.0042 579.825 Q64.0042 586.382 59.0071 590.392 Q54.01 594.403 45.7664 594.403 Q37.491 594.403 32.4939 590.392 Q27.4968 586.382 27.4968 579.825 Q27.4968 575.878 29.0564 573.046 Q30.616 570.213 33.7671 568.399 L28.3562 568.399 L28.3562 562.542 L59.58 562.542 Z\" fill=\"#000000\" fill-rule=\"nonzero\" fill-opacity=\"1\" /><path clip-path=\"url(#clip980)\" d=\"M44.7161 519.987 L47.5806 519.987 L47.5806 546.914 Q53.6281 546.532 56.8109 543.286 Q59.9619 540.008 59.9619 534.183 Q59.9619 530.809 59.1344 527.658 Q58.3069 524.475 56.6518 521.356 L62.1899 521.356 Q63.5267 524.507 64.227 527.817 Q64.9272 531.127 64.9272 534.533 Q64.9272 543.063 59.9619 548.06 Q54.9967 553.025 46.5303 553.025 Q37.7774 553.025 32.6531 548.315 Q27.4968 543.572 27.4968 535.552 Q27.4968 528.358 32.1438 524.189 Q36.7589 519.987 44.7161 519.987 M42.9973 525.844 Q38.1912 525.908 35.3266 528.549 Q32.4621 531.159 32.4621 535.488 Q32.4621 540.39 35.2312 543.35 Q38.0002 546.278 43.0292 546.723 L42.9973 525.844 Z\" fill=\"#000000\" fill-rule=\"nonzero\" fill-opacity=\"1\" /><path clip-path=\"url(#clip980)\" d=\"M33.8307 489.718 Q33.2578 490.705 33.0032 491.883 Q32.7167 493.029 32.7167 494.429 Q32.7167 499.394 35.9632 502.068 Q39.1779 504.71 45.2253 504.71 L64.0042 504.71 L64.0042 510.598 L28.3562 510.598 L28.3562 504.71 L33.8944 504.71 Q30.6479 502.864 29.0883 499.904 Q27.4968 496.944 27.4968 492.71 Q27.4968 492.106 27.5923 491.374 Q27.656 490.642 27.8151 489.75 L33.8307 489.718 Z\" fill=\"#000000\" fill-rule=\"nonzero\" fill-opacity=\"1\" /><path clip-path=\"url(#clip980)\" d=\"M29.4065 460.85 L34.9447 460.85 Q33.6716 463.333 33.035 466.006 Q32.3984 468.68 32.3984 471.544 Q32.3984 475.905 33.7352 478.101 Q35.072 480.265 37.7456 480.265 Q39.7826 480.265 40.9603 478.706 Q42.1061 477.146 43.1565 472.436 L43.6021 470.43 Q44.9389 464.192 47.3897 461.582 Q49.8086 458.94 54.1691 458.94 Q59.1344 458.94 62.0308 462.887 Q64.9272 466.802 64.9272 473.677 Q64.9272 476.541 64.3543 479.661 Q63.8132 482.748 62.6992 486.186 L56.6518 486.186 Q58.3387 482.939 59.198 479.788 Q60.0256 476.637 60.0256 473.55 Q60.0256 469.412 58.6251 467.184 Q57.1929 464.956 54.6147 464.956 Q52.2276 464.956 50.9545 466.579 Q49.6813 468.171 48.5037 473.613 L48.0262 475.65 Q46.8804 481.093 44.5251 483.512 Q42.138 485.931 38.0002 485.931 Q32.9713 485.931 30.2341 482.366 Q27.4968 478.801 27.4968 472.245 Q27.4968 468.998 27.9743 466.134 Q28.4517 463.269 29.4065 460.85 Z\" fill=\"#000000\" fill-rule=\"nonzero\" fill-opacity=\"1\" /><polyline clip-path=\"url(#clip982)\" style=\"stroke:#009af9; stroke-linecap:round; stroke-linejoin:round; stroke-width:4; stroke-opacity:1; fill:none\" points=\"264.778,86.1857 467.495,553.485 670.211,916.939 872.927,1176.55 1075.64,1332.32 1278.36,1384.24 1481.08,1332.32 1683.79,1176.55 1886.51,916.939 2089.22,553.485 2291.94,86.1857 \"/>\n",
              "</svg>\n"
            ],
            "text/html": [
              "<?xml version=\"1.0\" encoding=\"utf-8\"?>\n",
              "<svg xmlns=\"http://www.w3.org/2000/svg\" xmlns:xlink=\"http://www.w3.org/1999/xlink\" width=\"600\" height=\"400\" viewBox=\"0 0 2400 1600\">\n",
              "<defs>\n",
              "  <clipPath id=\"clip030\">\n",
              "    <rect x=\"0\" y=\"0\" width=\"2400\" height=\"1600\"/>\n",
              "  </clipPath>\n",
              "</defs>\n",
              "<path clip-path=\"url(#clip030)\" d=\"M0 1600 L2400 1600 L2400 8.88178e-14 L0 8.88178e-14  Z\" fill=\"#ffffff\" fill-rule=\"evenodd\" fill-opacity=\"1\"/>\n",
              "<defs>\n",
              "  <clipPath id=\"clip031\">\n",
              "    <rect x=\"480\" y=\"0\" width=\"1681\" height=\"1600\"/>\n",
              "  </clipPath>\n",
              "</defs>\n",
              "<path clip-path=\"url(#clip030)\" d=\"M203.964 1423.18 L2352.76 1423.18 L2352.76 47.2441 L203.964 47.2441  Z\" fill=\"#ffffff\" fill-rule=\"evenodd\" fill-opacity=\"1\"/>\n",
              "<defs>\n",
              "  <clipPath id=\"clip032\">\n",
              "    <rect x=\"203\" y=\"47\" width=\"2150\" height=\"1377\"/>\n",
              "  </clipPath>\n",
              "</defs>\n",
              "<polyline clip-path=\"url(#clip032)\" style=\"stroke:#000000; stroke-linecap:round; stroke-linejoin:round; stroke-width:2; stroke-opacity:0.1; fill:none\" points=\"467.495,1423.18 467.495,47.2441 \"/>\n",
              "<polyline clip-path=\"url(#clip032)\" style=\"stroke:#000000; stroke-linecap:round; stroke-linejoin:round; stroke-width:2; stroke-opacity:0.1; fill:none\" points=\"872.927,1423.18 872.927,47.2441 \"/>\n",
              "<polyline clip-path=\"url(#clip032)\" style=\"stroke:#000000; stroke-linecap:round; stroke-linejoin:round; stroke-width:2; stroke-opacity:0.1; fill:none\" points=\"1278.36,1423.18 1278.36,47.2441 \"/>\n",
              "<polyline clip-path=\"url(#clip032)\" style=\"stroke:#000000; stroke-linecap:round; stroke-linejoin:round; stroke-width:2; stroke-opacity:0.1; fill:none\" points=\"1683.79,1423.18 1683.79,47.2441 \"/>\n",
              "<polyline clip-path=\"url(#clip032)\" style=\"stroke:#000000; stroke-linecap:round; stroke-linejoin:round; stroke-width:2; stroke-opacity:0.1; fill:none\" points=\"2089.22,1423.18 2089.22,47.2441 \"/>\n",
              "<polyline clip-path=\"url(#clip030)\" style=\"stroke:#000000; stroke-linecap:round; stroke-linejoin:round; stroke-width:4; stroke-opacity:1; fill:none\" points=\"203.964,1423.18 2352.76,1423.18 \"/>\n",
              "<polyline clip-path=\"url(#clip030)\" style=\"stroke:#000000; stroke-linecap:round; stroke-linejoin:round; stroke-width:4; stroke-opacity:1; fill:none\" points=\"467.495,1423.18 467.495,1404.28 \"/>\n",
              "<polyline clip-path=\"url(#clip030)\" style=\"stroke:#000000; stroke-linecap:round; stroke-linejoin:round; stroke-width:4; stroke-opacity:1; fill:none\" points=\"872.927,1423.18 872.927,1404.28 \"/>\n",
              "<polyline clip-path=\"url(#clip030)\" style=\"stroke:#000000; stroke-linecap:round; stroke-linejoin:round; stroke-width:4; stroke-opacity:1; fill:none\" points=\"1278.36,1423.18 1278.36,1404.28 \"/>\n",
              "<polyline clip-path=\"url(#clip030)\" style=\"stroke:#000000; stroke-linecap:round; stroke-linejoin:round; stroke-width:4; stroke-opacity:1; fill:none\" points=\"1683.79,1423.18 1683.79,1404.28 \"/>\n",
              "<polyline clip-path=\"url(#clip030)\" style=\"stroke:#000000; stroke-linecap:round; stroke-linejoin:round; stroke-width:4; stroke-opacity:1; fill:none\" points=\"2089.22,1423.18 2089.22,1404.28 \"/>\n",
              "<path clip-path=\"url(#clip030)\" d=\"M436.395 1468.75 L466.071 1468.75 L466.071 1472.69 L436.395 1472.69 L436.395 1468.75 Z\" fill=\"#000000\" fill-rule=\"nonzero\" fill-opacity=\"1\" /><path clip-path=\"url(#clip030)\" d=\"M489.011 1455.09 L477.205 1473.54 L489.011 1473.54 L489.011 1455.09 M487.784 1451.02 L493.664 1451.02 L493.664 1473.54 L498.594 1473.54 L498.594 1477.43 L493.664 1477.43 L493.664 1485.58 L489.011 1485.58 L489.011 1477.43 L473.409 1477.43 L473.409 1472.92 L487.784 1451.02 Z\" fill=\"#000000\" fill-rule=\"nonzero\" fill-opacity=\"1\" /><path clip-path=\"url(#clip030)\" d=\"M842.87 1468.75 L872.545 1468.75 L872.545 1472.69 L842.87 1472.69 L842.87 1468.75 Z\" fill=\"#000000\" fill-rule=\"nonzero\" fill-opacity=\"1\" /><path clip-path=\"url(#clip030)\" d=\"M886.666 1481.64 L902.985 1481.64 L902.985 1485.58 L881.041 1485.58 L881.041 1481.64 Q883.703 1478.89 888.286 1474.26 Q892.892 1469.61 894.073 1468.27 Q896.318 1465.74 897.198 1464.01 Q898.101 1462.25 898.101 1460.56 Q898.101 1457.8 896.156 1456.07 Q894.235 1454.33 891.133 1454.33 Q888.934 1454.33 886.48 1455.09 Q884.05 1455.86 881.272 1457.41 L881.272 1452.69 Q884.096 1451.55 886.55 1450.97 Q889.004 1450.39 891.041 1450.39 Q896.411 1450.39 899.605 1453.08 Q902.8 1455.77 902.8 1460.26 Q902.8 1462.39 901.99 1464.31 Q901.203 1466.2 899.096 1468.8 Q898.517 1469.47 895.416 1472.69 Q892.314 1475.88 886.666 1481.64 Z\" fill=\"#000000\" fill-rule=\"nonzero\" fill-opacity=\"1\" /><path clip-path=\"url(#clip030)\" d=\"M1278.36 1454.1 Q1274.75 1454.1 1272.92 1457.66 Q1271.11 1461.2 1271.11 1468.33 Q1271.11 1475.44 1272.92 1479.01 Q1274.75 1482.55 1278.36 1482.55 Q1281.99 1482.55 1283.8 1479.01 Q1285.63 1475.44 1285.63 1468.33 Q1285.63 1461.2 1283.8 1457.66 Q1281.99 1454.1 1278.36 1454.1 M1278.36 1450.39 Q1284.17 1450.39 1287.23 1455 Q1290.3 1459.58 1290.3 1468.33 Q1290.3 1477.06 1287.23 1481.67 Q1284.17 1486.25 1278.36 1486.25 Q1272.55 1486.25 1269.47 1481.67 Q1266.42 1477.06 1266.42 1468.33 Q1266.42 1459.58 1269.47 1455 Q1272.55 1450.39 1278.36 1450.39 Z\" fill=\"#000000\" fill-rule=\"nonzero\" fill-opacity=\"1\" /><path clip-path=\"url(#clip030)\" d=\"M1678.45 1481.64 L1694.76 1481.64 L1694.76 1485.58 L1672.82 1485.58 L1672.82 1481.64 Q1675.48 1478.89 1680.07 1474.26 Q1684.67 1469.61 1685.85 1468.27 Q1688.1 1465.74 1688.98 1464.01 Q1689.88 1462.25 1689.88 1460.56 Q1689.88 1457.8 1687.94 1456.07 Q1686.01 1454.33 1682.91 1454.33 Q1680.71 1454.33 1678.26 1455.09 Q1675.83 1455.86 1673.05 1457.41 L1673.05 1452.69 Q1675.88 1451.55 1678.33 1450.97 Q1680.78 1450.39 1682.82 1450.39 Q1688.19 1450.39 1691.38 1453.08 Q1694.58 1455.77 1694.58 1460.26 Q1694.58 1462.39 1693.77 1464.31 Q1692.98 1466.2 1690.88 1468.8 Q1690.3 1469.47 1687.2 1472.69 Q1684.09 1475.88 1678.45 1481.64 Z\" fill=\"#000000\" fill-rule=\"nonzero\" fill-opacity=\"1\" /><path clip-path=\"url(#clip030)\" d=\"M2092.23 1455.09 L2080.43 1473.54 L2092.23 1473.54 L2092.23 1455.09 M2091.01 1451.02 L2096.89 1451.02 L2096.89 1473.54 L2101.82 1473.54 L2101.82 1477.43 L2096.89 1477.43 L2096.89 1485.58 L2092.23 1485.58 L2092.23 1477.43 L2076.63 1477.43 L2076.63 1472.92 L2091.01 1451.02 Z\" fill=\"#000000\" fill-rule=\"nonzero\" fill-opacity=\"1\" /><path clip-path=\"url(#clip030)\" d=\"M1148.93 1520.52 L1155.36 1520.52 L1155.36 1568.04 L1148.93 1568.04 L1148.93 1520.52 Z\" fill=\"#000000\" fill-rule=\"nonzero\" fill-opacity=\"1\" /><path clip-path=\"url(#clip030)\" d=\"M1197.53 1546.53 L1197.53 1568.04 L1191.67 1568.04 L1191.67 1546.72 Q1191.67 1541.66 1189.7 1539.14 Q1187.73 1536.63 1183.78 1536.63 Q1179.04 1536.63 1176.3 1539.65 Q1173.56 1542.68 1173.56 1547.9 L1173.56 1568.04 L1167.68 1568.04 L1167.68 1532.4 L1173.56 1532.4 L1173.56 1537.93 Q1175.66 1534.72 1178.5 1533.13 Q1181.36 1531.54 1185.09 1531.54 Q1191.23 1531.54 1194.38 1535.36 Q1197.53 1539.14 1197.53 1546.53 Z\" fill=\"#000000\" fill-rule=\"nonzero\" fill-opacity=\"1\" /><path clip-path=\"url(#clip030)\" d=\"M1215.01 1522.27 L1215.01 1532.4 L1227.07 1532.4 L1227.07 1536.95 L1215.01 1536.95 L1215.01 1556.3 Q1215.01 1560.66 1216.18 1561.9 Q1217.39 1563.14 1221.05 1563.14 L1227.07 1563.14 L1227.07 1568.04 L1221.05 1568.04 Q1214.27 1568.04 1211.69 1565.53 Q1209.12 1562.98 1209.12 1556.3 L1209.12 1536.95 L1204.82 1536.95 L1204.82 1532.4 L1209.12 1532.4 L1209.12 1522.27 L1215.01 1522.27 Z\" fill=\"#000000\" fill-rule=\"nonzero\" fill-opacity=\"1\" /><path clip-path=\"url(#clip030)\" d=\"M1265.26 1548.76 L1265.26 1551.62 L1238.34 1551.62 Q1238.72 1557.67 1241.96 1560.85 Q1245.24 1564 1251.07 1564 Q1254.44 1564 1257.59 1563.17 Q1260.77 1562.35 1263.89 1560.69 L1263.89 1566.23 Q1260.74 1567.57 1257.43 1568.27 Q1254.12 1568.97 1250.72 1568.97 Q1242.19 1568.97 1237.19 1564 Q1232.22 1559.04 1232.22 1550.57 Q1232.22 1541.82 1236.93 1536.69 Q1241.68 1531.54 1249.7 1531.54 Q1256.89 1531.54 1261.06 1536.18 Q1265.26 1540.8 1265.26 1548.76 M1259.41 1547.04 Q1259.34 1542.23 1256.7 1539.37 Q1254.09 1536.5 1249.76 1536.5 Q1244.86 1536.5 1241.9 1539.27 Q1238.97 1542.04 1238.53 1547.07 L1259.41 1547.04 Z\" fill=\"#000000\" fill-rule=\"nonzero\" fill-opacity=\"1\" /><path clip-path=\"url(#clip030)\" d=\"M1298.33 1549.81 Q1298.33 1543.44 1295.69 1539.94 Q1293.08 1536.44 1288.34 1536.44 Q1283.63 1536.44 1280.99 1539.94 Q1278.38 1543.44 1278.38 1549.81 Q1278.38 1556.14 1280.99 1559.64 Q1283.63 1563.14 1288.34 1563.14 Q1293.08 1563.14 1295.69 1559.64 Q1298.33 1556.14 1298.33 1549.81 M1304.19 1563.62 Q1304.19 1572.72 1300.15 1577.15 Q1296.1 1581.6 1287.77 1581.6 Q1284.68 1581.6 1281.94 1581.13 Q1279.2 1580.68 1276.63 1579.72 L1276.63 1574.03 Q1279.2 1575.43 1281.72 1576.1 Q1284.23 1576.76 1286.84 1576.76 Q1292.6 1576.76 1295.47 1573.74 Q1298.33 1570.75 1298.33 1564.67 L1298.33 1561.77 Q1296.52 1564.92 1293.69 1566.48 Q1290.85 1568.04 1286.91 1568.04 Q1280.35 1568.04 1276.34 1563.05 Q1272.33 1558.05 1272.33 1549.81 Q1272.33 1541.53 1276.34 1536.53 Q1280.35 1531.54 1286.91 1531.54 Q1290.85 1531.54 1293.69 1533.1 Q1296.52 1534.66 1298.33 1537.81 L1298.33 1532.4 L1304.19 1532.4 L1304.19 1563.62 Z\" fill=\"#000000\" fill-rule=\"nonzero\" fill-opacity=\"1\" /><path clip-path=\"url(#clip030)\" d=\"M1346.74 1548.76 L1346.74 1551.62 L1319.82 1551.62 Q1320.2 1557.67 1323.44 1560.85 Q1326.72 1564 1332.55 1564 Q1335.92 1564 1339.07 1563.17 Q1342.26 1562.35 1345.37 1560.69 L1345.37 1566.23 Q1342.22 1567.57 1338.91 1568.27 Q1335.6 1568.97 1332.2 1568.97 Q1323.67 1568.97 1318.67 1564 Q1313.71 1559.04 1313.71 1550.57 Q1313.71 1541.82 1318.42 1536.69 Q1323.16 1531.54 1331.18 1531.54 Q1338.37 1531.54 1342.54 1536.18 Q1346.74 1540.8 1346.74 1548.76 M1340.89 1547.04 Q1340.82 1542.23 1338.18 1539.37 Q1335.57 1536.5 1331.24 1536.5 Q1326.34 1536.5 1323.38 1539.27 Q1320.45 1542.04 1320.01 1547.07 L1340.89 1547.04 Z\" fill=\"#000000\" fill-rule=\"nonzero\" fill-opacity=\"1\" /><path clip-path=\"url(#clip030)\" d=\"M1377.01 1537.87 Q1376.03 1537.3 1374.85 1537.04 Q1373.7 1536.76 1372.3 1536.76 Q1367.34 1536.76 1364.66 1540 Q1362.02 1543.22 1362.02 1549.27 L1362.02 1568.04 L1356.13 1568.04 L1356.13 1532.4 L1362.02 1532.4 L1362.02 1537.93 Q1363.87 1534.69 1366.83 1533.13 Q1369.79 1531.54 1374.02 1531.54 Q1374.63 1531.54 1375.36 1531.63 Q1376.09 1531.7 1376.98 1531.85 L1377.01 1537.87 Z\" fill=\"#000000\" fill-rule=\"nonzero\" fill-opacity=\"1\" /><path clip-path=\"url(#clip030)\" d=\"M1405.88 1533.45 L1405.88 1538.98 Q1403.4 1537.71 1400.72 1537.07 Q1398.05 1536.44 1395.19 1536.44 Q1390.83 1536.44 1388.63 1537.77 Q1386.47 1539.11 1386.47 1541.79 Q1386.47 1543.82 1388.02 1545 Q1389.58 1546.15 1394.3 1547.2 L1396.3 1547.64 Q1402.54 1548.98 1405.15 1551.43 Q1407.79 1553.85 1407.79 1558.21 Q1407.79 1563.17 1403.84 1566.07 Q1399.93 1568.97 1393.05 1568.97 Q1390.19 1568.97 1387.07 1568.39 Q1383.98 1567.85 1380.55 1566.74 L1380.55 1560.69 Q1383.79 1562.38 1386.94 1563.24 Q1390.09 1564.07 1393.18 1564.07 Q1397.32 1564.07 1399.55 1562.66 Q1401.77 1561.23 1401.77 1558.65 Q1401.77 1556.27 1400.15 1554.99 Q1398.56 1553.72 1393.12 1552.54 L1391.08 1552.07 Q1385.64 1550.92 1383.22 1548.56 Q1380.8 1546.18 1380.8 1542.04 Q1380.8 1537.01 1384.36 1534.27 Q1387.93 1531.54 1394.49 1531.54 Q1397.73 1531.54 1400.6 1532.01 Q1403.46 1532.49 1405.88 1533.45 Z\" fill=\"#000000\" fill-rule=\"nonzero\" fill-opacity=\"1\" /><polyline clip-path=\"url(#clip032)\" style=\"stroke:#000000; stroke-linecap:round; stroke-linejoin:round; stroke-width:2; stroke-opacity:0.1; fill:none\" points=\"203.964,1384.24 2352.76,1384.24 \"/>\n",
              "<polyline clip-path=\"url(#clip032)\" style=\"stroke:#000000; stroke-linecap:round; stroke-linejoin:round; stroke-width:2; stroke-opacity:0.1; fill:none\" points=\"203.964,1124.63 2352.76,1124.63 \"/>\n",
              "<polyline clip-path=\"url(#clip032)\" style=\"stroke:#000000; stroke-linecap:round; stroke-linejoin:round; stroke-width:2; stroke-opacity:0.1; fill:none\" points=\"203.964,865.017 2352.76,865.017 \"/>\n",
              "<polyline clip-path=\"url(#clip032)\" style=\"stroke:#000000; stroke-linecap:round; stroke-linejoin:round; stroke-width:2; stroke-opacity:0.1; fill:none\" points=\"203.964,605.407 2352.76,605.407 \"/>\n",
              "<polyline clip-path=\"url(#clip032)\" style=\"stroke:#000000; stroke-linecap:round; stroke-linejoin:round; stroke-width:2; stroke-opacity:0.1; fill:none\" points=\"203.964,345.796 2352.76,345.796 \"/>\n",
              "<polyline clip-path=\"url(#clip032)\" style=\"stroke:#000000; stroke-linecap:round; stroke-linejoin:round; stroke-width:2; stroke-opacity:0.1; fill:none\" points=\"203.964,86.1857 2352.76,86.1857 \"/>\n",
              "<polyline clip-path=\"url(#clip030)\" style=\"stroke:#000000; stroke-linecap:round; stroke-linejoin:round; stroke-width:4; stroke-opacity:1; fill:none\" points=\"203.964,1423.18 203.964,47.2441 \"/>\n",
              "<polyline clip-path=\"url(#clip030)\" style=\"stroke:#000000; stroke-linecap:round; stroke-linejoin:round; stroke-width:4; stroke-opacity:1; fill:none\" points=\"203.964,1384.24 222.861,1384.24 \"/>\n",
              "<polyline clip-path=\"url(#clip030)\" style=\"stroke:#000000; stroke-linecap:round; stroke-linejoin:round; stroke-width:4; stroke-opacity:1; fill:none\" points=\"203.964,1124.63 222.861,1124.63 \"/>\n",
              "<polyline clip-path=\"url(#clip030)\" style=\"stroke:#000000; stroke-linecap:round; stroke-linejoin:round; stroke-width:4; stroke-opacity:1; fill:none\" points=\"203.964,865.017 222.861,865.017 \"/>\n",
              "<polyline clip-path=\"url(#clip030)\" style=\"stroke:#000000; stroke-linecap:round; stroke-linejoin:round; stroke-width:4; stroke-opacity:1; fill:none\" points=\"203.964,605.407 222.861,605.407 \"/>\n",
              "<polyline clip-path=\"url(#clip030)\" style=\"stroke:#000000; stroke-linecap:round; stroke-linejoin:round; stroke-width:4; stroke-opacity:1; fill:none\" points=\"203.964,345.796 222.861,345.796 \"/>\n",
              "<polyline clip-path=\"url(#clip030)\" style=\"stroke:#000000; stroke-linecap:round; stroke-linejoin:round; stroke-width:4; stroke-opacity:1; fill:none\" points=\"203.964,86.1857 222.861,86.1857 \"/>\n",
              "<path clip-path=\"url(#clip030)\" d=\"M156.019 1370.04 Q152.408 1370.04 150.579 1373.6 Q148.774 1377.14 148.774 1384.27 Q148.774 1391.38 150.579 1394.94 Q152.408 1398.49 156.019 1398.49 Q159.653 1398.49 161.459 1394.94 Q163.288 1391.38 163.288 1384.27 Q163.288 1377.14 161.459 1373.6 Q159.653 1370.04 156.019 1370.04 M156.019 1366.33 Q161.829 1366.33 164.885 1370.94 Q167.964 1375.52 167.964 1384.27 Q167.964 1393 164.885 1397.61 Q161.829 1402.19 156.019 1402.19 Q150.209 1402.19 147.13 1397.61 Q144.075 1393 144.075 1384.27 Q144.075 1375.52 147.13 1370.94 Q150.209 1366.33 156.019 1366.33 Z\" fill=\"#000000\" fill-rule=\"nonzero\" fill-opacity=\"1\" /><path clip-path=\"url(#clip030)\" d=\"M147.061 1107.35 L165.417 1107.35 L165.417 1111.28 L151.343 1111.28 L151.343 1119.76 Q152.362 1119.41 153.38 1119.25 Q154.399 1119.06 155.417 1119.06 Q161.204 1119.06 164.584 1122.23 Q167.964 1125.4 167.964 1130.82 Q167.964 1136.4 164.491 1139.5 Q161.019 1142.58 154.7 1142.58 Q152.524 1142.58 150.255 1142.21 Q148.01 1141.84 145.603 1141.1 L145.603 1136.4 Q147.686 1137.53 149.908 1138.09 Q152.13 1138.64 154.607 1138.64 Q158.612 1138.64 160.95 1136.54 Q163.288 1134.43 163.288 1130.82 Q163.288 1127.21 160.95 1125.1 Q158.612 1123 154.607 1123 Q152.732 1123 150.857 1123.41 Q149.005 1123.83 147.061 1124.71 L147.061 1107.35 Z\" fill=\"#000000\" fill-rule=\"nonzero\" fill-opacity=\"1\" /><path clip-path=\"url(#clip030)\" d=\"M116.668 878.362 L124.306 878.362 L124.306 851.996 L115.996 853.663 L115.996 849.404 L124.26 847.737 L128.936 847.737 L128.936 878.362 L136.575 878.362 L136.575 882.297 L116.668 882.297 L116.668 878.362 Z\" fill=\"#000000\" fill-rule=\"nonzero\" fill-opacity=\"1\" /><path clip-path=\"url(#clip030)\" d=\"M156.019 850.816 Q152.408 850.816 150.579 854.381 Q148.774 857.922 148.774 865.052 Q148.774 872.158 150.579 875.723 Q152.408 879.265 156.019 879.265 Q159.653 879.265 161.459 875.723 Q163.288 872.158 163.288 865.052 Q163.288 857.922 161.459 854.381 Q159.653 850.816 156.019 850.816 M156.019 847.112 Q161.829 847.112 164.885 851.719 Q167.964 856.302 167.964 865.052 Q167.964 873.779 164.885 878.385 Q161.829 882.969 156.019 882.969 Q150.209 882.969 147.13 878.385 Q144.075 873.779 144.075 865.052 Q144.075 856.302 147.13 851.719 Q150.209 847.112 156.019 847.112 Z\" fill=\"#000000\" fill-rule=\"nonzero\" fill-opacity=\"1\" /><path clip-path=\"url(#clip030)\" d=\"M117.663 618.752 L125.302 618.752 L125.302 592.386 L116.992 594.053 L116.992 589.793 L125.255 588.127 L129.931 588.127 L129.931 618.752 L137.57 618.752 L137.57 622.687 L117.663 622.687 L117.663 618.752 Z\" fill=\"#000000\" fill-rule=\"nonzero\" fill-opacity=\"1\" /><path clip-path=\"url(#clip030)\" d=\"M147.061 588.127 L165.417 588.127 L165.417 592.062 L151.343 592.062 L151.343 600.534 Q152.362 600.187 153.38 600.025 Q154.399 599.84 155.417 599.84 Q161.204 599.84 164.584 603.011 Q167.964 606.182 167.964 611.599 Q167.964 617.177 164.491 620.279 Q161.019 623.358 154.7 623.358 Q152.524 623.358 150.255 622.988 Q148.01 622.617 145.603 621.877 L145.603 617.177 Q147.686 618.312 149.908 618.867 Q152.13 619.423 154.607 619.423 Q158.612 619.423 160.95 617.316 Q163.288 615.21 163.288 611.599 Q163.288 607.988 160.95 605.881 Q158.612 603.775 154.607 603.775 Q152.732 603.775 150.857 604.191 Q149.005 604.608 147.061 605.488 L147.061 588.127 Z\" fill=\"#000000\" fill-rule=\"nonzero\" fill-opacity=\"1\" /><path clip-path=\"url(#clip030)\" d=\"M119.885 359.141 L136.204 359.141 L136.204 363.076 L114.26 363.076 L114.26 359.141 Q116.922 356.386 121.505 351.757 Q126.112 347.104 127.292 345.761 Q129.538 343.238 130.417 341.502 Q131.32 339.743 131.32 338.053 Q131.32 335.299 129.376 333.562 Q127.455 331.826 124.353 331.826 Q122.154 331.826 119.7 332.59 Q117.269 333.354 114.492 334.905 L114.492 330.183 Q117.316 329.049 119.769 328.47 Q122.223 327.891 124.26 327.891 Q129.63 327.891 132.825 330.576 Q136.019 333.262 136.019 337.752 Q136.019 339.882 135.209 341.803 Q134.422 343.701 132.316 346.294 Q131.737 346.965 128.635 350.183 Q125.533 353.377 119.885 359.141 Z\" fill=\"#000000\" fill-rule=\"nonzero\" fill-opacity=\"1\" /><path clip-path=\"url(#clip030)\" d=\"M156.019 331.595 Q152.408 331.595 150.579 335.16 Q148.774 338.701 148.774 345.831 Q148.774 352.937 150.579 356.502 Q152.408 360.044 156.019 360.044 Q159.653 360.044 161.459 356.502 Q163.288 352.937 163.288 345.831 Q163.288 338.701 161.459 335.16 Q159.653 331.595 156.019 331.595 M156.019 327.891 Q161.829 327.891 164.885 332.498 Q167.964 337.081 167.964 345.831 Q167.964 354.558 164.885 359.164 Q161.829 363.747 156.019 363.747 Q150.209 363.747 147.13 359.164 Q144.075 354.558 144.075 345.831 Q144.075 337.081 147.13 332.498 Q150.209 327.891 156.019 327.891 Z\" fill=\"#000000\" fill-rule=\"nonzero\" fill-opacity=\"1\" /><path clip-path=\"url(#clip030)\" d=\"M120.88 99.5305 L137.2 99.5305 L137.2 103.466 L115.256 103.466 L115.256 99.5305 Q117.918 96.7759 122.501 92.1463 Q127.107 87.4935 128.288 86.151 Q130.533 83.6278 131.413 81.8917 Q132.316 80.1325 132.316 78.4427 Q132.316 75.688 130.371 73.9519 Q128.45 72.2158 125.348 72.2158 Q123.149 72.2158 120.695 72.9797 Q118.265 73.7436 115.487 75.2945 L115.487 70.5723 Q118.311 69.4381 120.765 68.8594 Q123.218 68.2807 125.255 68.2807 Q130.626 68.2807 133.82 70.9658 Q137.015 73.651 137.015 78.1417 Q137.015 80.2714 136.204 82.1926 Q135.417 84.0908 133.311 86.6834 Q132.732 87.3546 129.63 90.5722 Q126.529 93.7667 120.88 99.5305 Z\" fill=\"#000000\" fill-rule=\"nonzero\" fill-opacity=\"1\" /><path clip-path=\"url(#clip030)\" d=\"M147.061 68.9057 L165.417 68.9057 L165.417 72.8408 L151.343 72.8408 L151.343 81.313 Q152.362 80.9658 153.38 80.8038 Q154.399 80.6186 155.417 80.6186 Q161.204 80.6186 164.584 83.7899 Q167.964 86.9611 167.964 92.3778 Q167.964 97.9564 164.491 101.058 Q161.019 104.137 154.7 104.137 Q152.524 104.137 150.255 103.767 Q148.01 103.396 145.603 102.655 L145.603 97.9564 Q147.686 99.0907 149.908 99.6462 Q152.13 100.202 154.607 100.202 Q158.612 100.202 160.95 98.0953 Q163.288 95.9889 163.288 92.3778 Q163.288 88.7667 160.95 86.6602 Q158.612 84.5537 154.607 84.5537 Q152.732 84.5537 150.857 84.9704 Q149.005 85.3871 147.061 86.2667 L147.061 68.9057 Z\" fill=\"#000000\" fill-rule=\"nonzero\" fill-opacity=\"1\" /><path clip-path=\"url(#clip030)\" d=\"M18.0438 980.896 L24.314 980.896 Q22.5634 984.557 21.704 987.803 Q20.8447 991.05 20.8447 994.073 Q20.8447 999.325 22.8817 1002.19 Q24.9187 1005.02 28.6745 1005.02 Q31.8255 1005.02 33.4488 1003.14 Q35.0402 1001.23 36.0269 995.951 L36.8226 992.068 Q38.1912 984.875 41.6605 981.469 Q45.098 978.032 50.8908 978.032 Q57.7976 978.032 61.3624 982.679 Q64.9272 987.294 64.9272 996.238 Q64.9272 999.612 64.1633 1003.43 Q63.3994 1007.22 61.9035 1011.29 L55.2831 1011.29 Q57.4793 1007.38 58.5933 1003.62 Q59.7073 999.866 59.7073 996.238 Q59.7073 990.731 57.543 987.74 Q55.3786 984.748 51.3682 984.748 Q47.8671 984.748 45.8937 986.912 Q43.9204 989.045 42.9337 993.946 L42.1698 997.861 Q40.7375 1005.05 37.682 1008.27 Q34.6264 1011.48 29.1837 1011.48 Q22.8817 1011.48 19.2532 1007.06 Q15.6248 1002.6 15.6248 994.805 Q15.6248 991.463 16.2295 987.994 Q16.8343 984.525 18.0438 980.896 Z\" fill=\"#000000\" fill-rule=\"nonzero\" fill-opacity=\"1\" /><path clip-path=\"url(#clip030)\" d=\"M46.212 964.759 Q52.6732 964.759 56.3653 962.118 Q60.0256 959.444 60.0256 954.797 Q60.0256 950.15 56.3653 947.476 Q52.6732 944.803 46.212 944.803 Q39.7508 944.803 36.0905 947.476 Q32.3984 950.15 32.3984 954.797 Q32.3984 959.444 36.0905 962.118 Q39.7508 964.759 46.212 964.759 M58.657 944.803 Q61.8398 946.649 63.3994 949.482 Q64.9272 952.283 64.9272 956.229 Q64.9272 962.69 59.771 966.765 Q54.6147 970.807 46.212 970.807 Q37.8093 970.807 32.6531 966.765 Q27.4968 962.69 27.4968 956.229 Q27.4968 952.283 29.0564 949.482 Q30.5842 946.649 33.7671 944.803 L28.3562 944.803 L28.3562 938.946 L77.5631 938.946 L77.5631 944.803 L58.657 944.803 Z\" fill=\"#000000\" fill-rule=\"nonzero\" fill-opacity=\"1\" /><path clip-path=\"url(#clip030)\" d=\"M49.9359 927.488 L28.3562 927.488 L28.3562 921.632 L49.7131 921.632 Q54.7739 921.632 57.3202 919.658 Q59.8346 917.685 59.8346 913.738 Q59.8346 908.996 56.8109 906.259 Q53.7872 903.489 48.5673 903.489 L28.3562 903.489 L28.3562 897.633 L64.0042 897.633 L64.0042 903.489 L58.5296 903.489 Q61.7762 905.622 63.3676 908.455 Q64.9272 911.256 64.9272 914.98 Q64.9272 921.122 61.1078 924.305 Q57.2883 927.488 49.9359 927.488 M27.4968 912.752 L27.4968 912.752 Z\" fill=\"#000000\" fill-rule=\"nonzero\" fill-opacity=\"1\" /><path clip-path=\"url(#clip030)\" d=\"M46.0847 869.369 Q46.0847 876.467 47.7079 879.204 Q49.3312 881.942 53.2461 881.942 Q56.3653 881.942 58.2114 879.904 Q60.0256 877.836 60.0256 874.303 Q60.0256 869.433 56.5881 866.505 Q53.1188 863.545 47.3897 863.545 L46.0847 863.545 L46.0847 869.369 M43.6657 857.688 L64.0042 857.688 L64.0042 863.545 L58.5933 863.545 Q61.8398 865.55 63.3994 868.542 Q64.9272 871.534 64.9272 875.862 Q64.9272 881.337 61.8716 884.583 Q58.7843 887.798 53.6281 887.798 Q47.6125 887.798 44.5569 883.788 Q41.5014 879.745 41.5014 871.756 L41.5014 863.545 L40.9285 863.545 Q36.8862 863.545 34.6901 866.218 Q32.4621 868.86 32.4621 873.666 Q32.4621 876.722 33.1941 879.618 Q33.9262 882.514 35.3903 885.188 L29.9795 885.188 Q28.7381 881.973 28.1334 878.95 Q27.4968 875.926 27.4968 873.061 Q27.4968 865.327 31.5072 861.508 Q35.5176 857.688 43.6657 857.688 Z\" fill=\"#000000\" fill-rule=\"nonzero\" fill-opacity=\"1\" /><path clip-path=\"url(#clip030)\" d=\"M33.8307 824.968 Q33.2578 825.955 33.0032 827.133 Q32.7167 828.279 32.7167 829.679 Q32.7167 834.644 35.9632 837.318 Q39.1779 839.96 45.2253 839.96 L64.0042 839.96 L64.0042 845.848 L28.3562 845.848 L28.3562 839.96 L33.8944 839.96 Q30.6479 838.114 29.0883 835.154 Q27.4968 832.194 27.4968 827.96 Q27.4968 827.356 27.5923 826.624 Q27.656 825.891 27.8151 825 L33.8307 824.968 Z\" fill=\"#000000\" fill-rule=\"nonzero\" fill-opacity=\"1\" /><path clip-path=\"url(#clip030)\" d=\"M44.7161 789.766 L47.5806 789.766 L47.5806 816.693 Q53.6281 816.311 56.8109 813.065 Q59.9619 809.786 59.9619 803.962 Q59.9619 800.588 59.1344 797.437 Q58.3069 794.254 56.6518 791.135 L62.1899 791.135 Q63.5267 794.286 64.227 797.596 Q64.9272 800.906 64.9272 804.312 Q64.9272 812.842 59.9619 817.839 Q54.9967 822.804 46.5303 822.804 Q37.7774 822.804 32.6531 818.093 Q27.4968 813.351 27.4968 805.33 Q27.4968 798.137 32.1438 793.967 Q36.7589 789.766 44.7161 789.766 M42.9973 795.623 Q38.1912 795.686 35.3266 798.328 Q32.4621 800.938 32.4621 805.267 Q32.4621 810.168 35.2312 813.128 Q38.0002 816.056 43.0292 816.502 L42.9973 795.623 Z\" fill=\"#000000\" fill-rule=\"nonzero\" fill-opacity=\"1\" /><path clip-path=\"url(#clip030)\" d=\"M33.7671 756.696 L14.479 756.696 L14.479 750.84 L64.0042 750.84 L64.0042 756.696 L58.657 756.696 Q61.8398 758.542 63.3994 761.375 Q64.9272 764.176 64.9272 768.123 Q64.9272 774.584 59.771 778.658 Q54.6147 782.7 46.212 782.7 Q37.8093 782.7 32.6531 778.658 Q27.4968 774.584 27.4968 768.123 Q27.4968 764.176 29.0564 761.375 Q30.5842 758.542 33.7671 756.696 M46.212 776.653 Q52.6732 776.653 56.3653 774.011 Q60.0256 771.337 60.0256 766.69 Q60.0256 762.043 56.3653 759.37 Q52.6732 756.696 46.212 756.696 Q39.7508 756.696 36.0905 759.37 Q32.3984 762.043 32.3984 766.69 Q32.3984 771.337 36.0905 774.011 Q39.7508 776.653 46.212 776.653 Z\" fill=\"#000000\" fill-rule=\"nonzero\" fill-opacity=\"1\" /><path clip-path=\"url(#clip030)\" d=\"M16.4842 717.802 L16.4842 711.372 L64.0042 711.372 L64.0042 717.802 L16.4842 717.802 Z\" fill=\"#000000\" fill-rule=\"nonzero\" fill-opacity=\"1\" /><path clip-path=\"url(#clip030)\" d=\"M42.4881 669.2 L64.0042 669.2 L64.0042 675.056 L42.679 675.056 Q37.6183 675.056 35.1038 677.029 Q32.5894 679.003 32.5894 682.95 Q32.5894 687.692 35.6131 690.429 Q38.6368 693.166 43.8567 693.166 L64.0042 693.166 L64.0042 699.055 L28.3562 699.055 L28.3562 693.166 L33.8944 693.166 Q30.6797 691.066 29.0883 688.233 Q27.4968 685.368 27.4968 681.645 Q27.4968 675.502 31.3163 672.351 Q35.1038 669.2 42.4881 669.2 Z\" fill=\"#000000\" fill-rule=\"nonzero\" fill-opacity=\"1\" /><path clip-path=\"url(#clip030)\" d=\"M18.2347 651.726 L28.3562 651.726 L28.3562 639.663 L32.9077 639.663 L32.9077 651.726 L52.2594 651.726 Q56.6199 651.726 57.8613 650.548 Q59.1026 649.339 59.1026 645.678 L59.1026 639.663 L64.0042 639.663 L64.0042 645.678 Q64.0042 652.458 61.4897 655.036 Q58.9434 657.614 52.2594 657.614 L32.9077 657.614 L32.9077 661.911 L28.3562 661.911 L28.3562 657.614 L18.2347 657.614 L18.2347 651.726 Z\" fill=\"#000000\" fill-rule=\"nonzero\" fill-opacity=\"1\" /><path clip-path=\"url(#clip030)\" d=\"M44.7161 601.468 L47.5806 601.468 L47.5806 628.395 Q53.6281 628.013 56.8109 624.767 Q59.9619 621.489 59.9619 615.664 Q59.9619 612.29 59.1344 609.139 Q58.3069 605.956 56.6518 602.837 L62.1899 602.837 Q63.5267 605.988 64.227 609.298 Q64.9272 612.608 64.9272 616.014 Q64.9272 624.544 59.9619 629.541 Q54.9967 634.506 46.5303 634.506 Q37.7774 634.506 32.6531 629.796 Q27.4968 625.053 27.4968 617.033 Q27.4968 609.839 32.1438 605.67 Q36.7589 601.468 44.7161 601.468 M42.9973 607.325 Q38.1912 607.389 35.3266 610.03 Q32.4621 612.64 32.4621 616.969 Q32.4621 621.871 35.2312 624.831 Q38.0002 627.759 43.0292 628.204 L42.9973 607.325 Z\" fill=\"#000000\" fill-rule=\"nonzero\" fill-opacity=\"1\" /><path clip-path=\"url(#clip030)\" d=\"M45.7664 568.399 Q39.4007 568.399 35.8996 571.04 Q32.3984 573.65 32.3984 578.393 Q32.3984 583.103 35.8996 585.745 Q39.4007 588.355 45.7664 588.355 Q52.1003 588.355 55.6014 585.745 Q59.1026 583.103 59.1026 578.393 Q59.1026 573.65 55.6014 571.04 Q52.1003 568.399 45.7664 568.399 M59.58 562.542 Q68.683 562.542 73.1071 566.584 Q77.5631 570.627 77.5631 578.966 Q77.5631 582.053 77.0857 584.79 Q76.6401 587.528 75.6852 590.106 L69.9879 590.106 Q71.3884 587.528 72.0568 585.013 Q72.7252 582.499 72.7252 579.889 Q72.7252 574.128 69.7015 571.263 Q66.7096 568.399 60.6303 568.399 L57.7339 568.399 Q60.885 570.213 62.4446 573.046 Q64.0042 575.878 64.0042 579.825 Q64.0042 586.382 59.0071 590.392 Q54.01 594.403 45.7664 594.403 Q37.491 594.403 32.4939 590.392 Q27.4968 586.382 27.4968 579.825 Q27.4968 575.878 29.0564 573.046 Q30.616 570.213 33.7671 568.399 L28.3562 568.399 L28.3562 562.542 L59.58 562.542 Z\" fill=\"#000000\" fill-rule=\"nonzero\" fill-opacity=\"1\" /><path clip-path=\"url(#clip030)\" d=\"M44.7161 519.987 L47.5806 519.987 L47.5806 546.914 Q53.6281 546.532 56.8109 543.286 Q59.9619 540.008 59.9619 534.183 Q59.9619 530.809 59.1344 527.658 Q58.3069 524.475 56.6518 521.356 L62.1899 521.356 Q63.5267 524.507 64.227 527.817 Q64.9272 531.127 64.9272 534.533 Q64.9272 543.063 59.9619 548.06 Q54.9967 553.025 46.5303 553.025 Q37.7774 553.025 32.6531 548.315 Q27.4968 543.572 27.4968 535.552 Q27.4968 528.358 32.1438 524.189 Q36.7589 519.987 44.7161 519.987 M42.9973 525.844 Q38.1912 525.908 35.3266 528.549 Q32.4621 531.159 32.4621 535.488 Q32.4621 540.39 35.2312 543.35 Q38.0002 546.278 43.0292 546.723 L42.9973 525.844 Z\" fill=\"#000000\" fill-rule=\"nonzero\" fill-opacity=\"1\" /><path clip-path=\"url(#clip030)\" d=\"M33.8307 489.718 Q33.2578 490.705 33.0032 491.883 Q32.7167 493.029 32.7167 494.429 Q32.7167 499.394 35.9632 502.068 Q39.1779 504.71 45.2253 504.71 L64.0042 504.71 L64.0042 510.598 L28.3562 510.598 L28.3562 504.71 L33.8944 504.71 Q30.6479 502.864 29.0883 499.904 Q27.4968 496.944 27.4968 492.71 Q27.4968 492.106 27.5923 491.374 Q27.656 490.642 27.8151 489.75 L33.8307 489.718 Z\" fill=\"#000000\" fill-rule=\"nonzero\" fill-opacity=\"1\" /><path clip-path=\"url(#clip030)\" d=\"M29.4065 460.85 L34.9447 460.85 Q33.6716 463.333 33.035 466.006 Q32.3984 468.68 32.3984 471.544 Q32.3984 475.905 33.7352 478.101 Q35.072 480.265 37.7456 480.265 Q39.7826 480.265 40.9603 478.706 Q42.1061 477.146 43.1565 472.436 L43.6021 470.43 Q44.9389 464.192 47.3897 461.582 Q49.8086 458.94 54.1691 458.94 Q59.1344 458.94 62.0308 462.887 Q64.9272 466.802 64.9272 473.677 Q64.9272 476.541 64.3543 479.661 Q63.8132 482.748 62.6992 486.186 L56.6518 486.186 Q58.3387 482.939 59.198 479.788 Q60.0256 476.637 60.0256 473.55 Q60.0256 469.412 58.6251 467.184 Q57.1929 464.956 54.6147 464.956 Q52.2276 464.956 50.9545 466.579 Q49.6813 468.171 48.5037 473.613 L48.0262 475.65 Q46.8804 481.093 44.5251 483.512 Q42.138 485.931 38.0002 485.931 Q32.9713 485.931 30.2341 482.366 Q27.4968 478.801 27.4968 472.245 Q27.4968 468.998 27.9743 466.134 Q28.4517 463.269 29.4065 460.85 Z\" fill=\"#000000\" fill-rule=\"nonzero\" fill-opacity=\"1\" /><polyline clip-path=\"url(#clip032)\" style=\"stroke:#009af9; stroke-linecap:round; stroke-linejoin:round; stroke-width:4; stroke-opacity:1; fill:none\" points=\"264.778,86.1857 467.495,553.485 670.211,916.939 872.927,1176.55 1075.64,1332.32 1278.36,1384.24 1481.08,1332.32 1683.79,1176.55 1886.51,916.939 2089.22,553.485 2291.94,86.1857 \"/>\n",
              "</svg>\n"
            ]
          },
          "metadata": {},
          "output_type": "display_data"
        }
      ],
      "source": [
        "# insert your code here\n",
        "function square(x)\n",
        "    x*x\n",
        "end\n",
        "\n",
        "v=[]\n",
        "for x in -5:5\n",
        "       push!(v,square(x))\n",
        "end\n",
        "\n",
        "x=[-5:1:5]\n",
        "plot(x,v, legend=false)\n",
        "xlabel!(\"Integers\")\n",
        "ylabel!(\"Squared Integers\")\n"
      ]
    },
    {
      "cell_type": "markdown",
      "id": "66a5c8f9",
      "metadata": {},
      "source": [
        "I created a function that calculates the dot product and used that function within a loop that evaluates the dot product at each value. The values are compiled in an array which I then ploted against the integer values."
      ]
    },
    {
      "cell_type": "code",
      "execution_count": null,
      "id": "72c0533e",
      "metadata": {},
      "outputs": [],
      "source": [
        "![alt text](fr.png)"
      ]
    },
    {
      "cell_type": "markdown",
      "id": "9c539f00",
      "metadata": {},
      "source": []
    },
    {
      "cell_type": "markdown",
      "id": "eaca6031-e691-4019-9986-e7127b3df842",
      "metadata": {},
      "source": [
        "## Commit and Push Your Changes to GitHub\n",
        "\n",
        "After completing the previous two exercises, commit your solution file\n",
        "(notebook or otherwise) and push to GitHub. Use an informative commit\n",
        "message which makes it clear what changes you’ve made. The specific\n",
        "workflow for this will vary depending on how you’re writing up your\n",
        "solutions; please search for specifics and ask for help as needed!\n",
        "\n",
        "> **Useful Commit Sizes**\n",
        ">\n",
        "> Ideally, you’d commit whenever you make a “substantial” enough change\n",
        "> that you want to lock in, such as writing the core code for a problem\n",
        "> or completing a problem, if you’re preparing code to be used elsewhere\n",
        "> (by yourself or others), or if you want to ask for help. `git` lets\n",
        "> you revert changes back to a previous commit, so it’s easy to undo\n",
        "> changes or updates which broke something that was previously working,\n",
        "> so changing too many things at once can make it hard to keep track of\n",
        "> what worked when.\n",
        ">\n",
        "> But in this case, go ahead and just commit after finishing the\n",
        "> problems.\n",
        "\n",
        "Push the repository with these commits to GitHub and take a screenshot\n",
        "of the repository page\n",
        "(`https://github.com/BEE4750-FA24/<username>/lab01`) which shows the\n",
        "updated repository. Include that screenshot in your submission as the\n",
        "solution to this problem.\n",
        "\n",
        "## Submitting PDF\n",
        "\n",
        "> **Important**\n",
        ">\n",
        "> These submission instructions will not be repeated on future\n",
        "> assignments!\n",
        "\n",
        "Export your writeup as a PDF and submit it to the “Lab 1” assignment on\n",
        "Gradescope. Make sure that you tag pages corresponding to relevant\n",
        "problems to avoid a 10% penalty.\n",
        "\n",
        "> **Printing Code to PDF**\n",
        ">\n",
        "> You are not required to submit your code when submitting assignments.\n",
        "> However, when printing a notebook to PDF, long lines will run off the\n",
        "> edge of code cells, which may result in comments or code being hidden.\n",
        "> If you see this, go back to the notebook and break up long lines into\n",
        "> shorter onces (for example, see the comment in the above code cell) to\n",
        "> ensure key parts of your results aren’t missing."
      ]
    },
    {
      "cell_type": "code",
      "execution_count": null,
      "id": "dd76999a",
      "metadata": {},
      "outputs": [],
      "source": []
    }
  ],
  "metadata": {
    "kernel_info": {
      "name": "julia"
    },
    "kernelspec": {
      "display_name": "Julia 1.10.4",
      "language": "julia",
      "name": "julia-1.10"
    },
    "language_info": {
      "file_extension": ".jl",
      "mimetype": "application/julia",
      "name": "julia",
      "version": "1.10.4"
    }
  },
  "nbformat": 4,
  "nbformat_minor": 5
}
